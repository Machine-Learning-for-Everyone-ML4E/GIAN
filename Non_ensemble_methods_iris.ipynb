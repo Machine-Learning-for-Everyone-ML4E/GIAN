{
  "nbformat": 4,
  "nbformat_minor": 0,
  "metadata": {
    "colab": {
      "name": "Non-ensemble methods_iris.ipynb",
      "provenance": [],
      "collapsed_sections": []
    },
    "kernelspec": {
      "name": "python3",
      "display_name": "Python 3"
    },
    "language_info": {
      "name": "python"
    }
  },
  "cells": [
    {
      "cell_type": "markdown",
      "source": [
        "# **Classification of IRIS flowers using non-ensemble techniques**\n",
        "Non-ensemble methods is a machine learning technique that uses only single algorithm for predictions .\n",
        "## Understanding the IRIS Dataset\n",
        "This dataset can be used in explaining classification problem.We use Scikit learn library to import the dataset.This dataset quantifies the morphologic variation of Iris flowers of three related species. The data set consists of 150 samples from each of three species of Iris (Iris Setosa, Iris virginica, and Iris versicolor). Four features were measured from each sample: the length and the width of the sepals and petals, in centimeters.This dataset became a typical test case for many statistical classification techniques in machine learning.When a new flower is given,we need to predict to which type it belongs to.\n",
        "\n",
        "![iris_species](https://user-images.githubusercontent.com/87603633/152629958-822ae55d-bc3b-4022-8cff-92b52a25a3a6.png)\n",
        "\n",
        "\n",
        "* iris.DESCR > Complete description of dataset\n",
        "* iris.data > Data to learn. Each training set is 4 digit array of features. Total 150 training sets\n",
        "* iris.feature_names > Array of all 4 feature ['sepal length (cm)','sepal width cm)','petal length (cm)','petal width (cm)']\n",
        "\n",
        "* iris.target > The classification label. For every training set there is one classification label(0,1,2). Here 0 for setosa, 1 for versicolor and 2 for virginica\n",
        "* iris.target_names  >> ['setosa', 'versicolor', 'virginica']\n"
      ],
      "metadata": {
        "id": "J0m3Y_egDW-2"
      }
    },
    {
      "cell_type": "markdown",
      "source": [
        "## Importing the required Libraries\n",
        "* pandas: Used for data manipulation and analysis\n",
        "* numpy : Numpy is the core library for scientific computing in Python. It is used for working with arrays and matrices.\n",
        "* datasets: Here we are going to use ‘iris’ dataset\n",
        "* model_selection: Here we are going to use model_selection.train_test_split() for splitting the data\n",
        "* tree: Here we are going to decision tree classifier\n",
        "* graphviz: Is used to export the tree into Graphviz format using the export_graphviz exporter"
      ],
      "metadata": {
        "id": "pPzhGlGAf-vJ"
      }
    },
    {
      "cell_type": "code",
      "source": [
        "import pandas as pd\n",
        "import numpy as np\n",
        "from sklearn import datasets\n",
        "from sklearn import model_selection\n",
        "from sklearn import tree\n",
        "import graphviz"
      ],
      "metadata": {
        "id": "h1m4sSSCgR-Q"
      },
      "execution_count": null,
      "outputs": []
    },
    {
      "cell_type": "markdown",
      "source": [
        "## Load The Data"
      ],
      "metadata": {
        "id": "pKVnTtz9ggkC"
      }
    },
    {
      "cell_type": "code",
      "source": [
        "iris = datasets.load_iris()\n",
        "print('Dataset structure= ', dir(iris))\n",
        "\n",
        "df = pd.DataFrame(iris.data, columns = iris.feature_names)\n",
        "df['target'] = iris.target\n",
        "df['flower_species'] = df.target.apply(lambda x : iris.target_names[x]) \n",
        "# Each value from 'target' is used as index to get corresponding value from 'target_names' \n",
        "\n",
        "print('Unique target values=',df['target'].unique())\n",
        "\n",
        "df.sample(5)"
      ],
      "metadata": {
        "colab": {
          "base_uri": "https://localhost:8080/",
          "height": 241
        },
        "id": "dd82XkZsgisM",
        "outputId": "6859a585-8ea3-4508-f00c-8432b5353666"
      },
      "execution_count": null,
      "outputs": [
        {
          "output_type": "stream",
          "name": "stdout",
          "text": [
            "Dataset structure=  ['DESCR', 'data', 'data_module', 'feature_names', 'filename', 'frame', 'target', 'target_names']\n",
            "Unique target values= [0 1 2]\n"
          ]
        },
        {
          "output_type": "execute_result",
          "data": {
            "text/html": [
              "\n",
              "  <div id=\"df-6439d1e6-afcb-47bd-9d97-f040ba2bc358\">\n",
              "    <div class=\"colab-df-container\">\n",
              "      <div>\n",
              "<style scoped>\n",
              "    .dataframe tbody tr th:only-of-type {\n",
              "        vertical-align: middle;\n",
              "    }\n",
              "\n",
              "    .dataframe tbody tr th {\n",
              "        vertical-align: top;\n",
              "    }\n",
              "\n",
              "    .dataframe thead th {\n",
              "        text-align: right;\n",
              "    }\n",
              "</style>\n",
              "<table border=\"1\" class=\"dataframe\">\n",
              "  <thead>\n",
              "    <tr style=\"text-align: right;\">\n",
              "      <th></th>\n",
              "      <th>sepal length (cm)</th>\n",
              "      <th>sepal width (cm)</th>\n",
              "      <th>petal length (cm)</th>\n",
              "      <th>petal width (cm)</th>\n",
              "      <th>target</th>\n",
              "      <th>flower_species</th>\n",
              "    </tr>\n",
              "  </thead>\n",
              "  <tbody>\n",
              "    <tr>\n",
              "      <th>32</th>\n",
              "      <td>5.2</td>\n",
              "      <td>4.1</td>\n",
              "      <td>1.5</td>\n",
              "      <td>0.1</td>\n",
              "      <td>0</td>\n",
              "      <td>setosa</td>\n",
              "    </tr>\n",
              "    <tr>\n",
              "      <th>146</th>\n",
              "      <td>6.3</td>\n",
              "      <td>2.5</td>\n",
              "      <td>5.0</td>\n",
              "      <td>1.9</td>\n",
              "      <td>2</td>\n",
              "      <td>virginica</td>\n",
              "    </tr>\n",
              "    <tr>\n",
              "      <th>75</th>\n",
              "      <td>6.6</td>\n",
              "      <td>3.0</td>\n",
              "      <td>4.4</td>\n",
              "      <td>1.4</td>\n",
              "      <td>1</td>\n",
              "      <td>versicolor</td>\n",
              "    </tr>\n",
              "    <tr>\n",
              "      <th>0</th>\n",
              "      <td>5.1</td>\n",
              "      <td>3.5</td>\n",
              "      <td>1.4</td>\n",
              "      <td>0.2</td>\n",
              "      <td>0</td>\n",
              "      <td>setosa</td>\n",
              "    </tr>\n",
              "    <tr>\n",
              "      <th>134</th>\n",
              "      <td>6.1</td>\n",
              "      <td>2.6</td>\n",
              "      <td>5.6</td>\n",
              "      <td>1.4</td>\n",
              "      <td>2</td>\n",
              "      <td>virginica</td>\n",
              "    </tr>\n",
              "  </tbody>\n",
              "</table>\n",
              "</div>\n",
              "      <button class=\"colab-df-convert\" onclick=\"convertToInteractive('df-6439d1e6-afcb-47bd-9d97-f040ba2bc358')\"\n",
              "              title=\"Convert this dataframe to an interactive table.\"\n",
              "              style=\"display:none;\">\n",
              "        \n",
              "  <svg xmlns=\"http://www.w3.org/2000/svg\" height=\"24px\"viewBox=\"0 0 24 24\"\n",
              "       width=\"24px\">\n",
              "    <path d=\"M0 0h24v24H0V0z\" fill=\"none\"/>\n",
              "    <path d=\"M18.56 5.44l.94 2.06.94-2.06 2.06-.94-2.06-.94-.94-2.06-.94 2.06-2.06.94zm-11 1L8.5 8.5l.94-2.06 2.06-.94-2.06-.94L8.5 2.5l-.94 2.06-2.06.94zm10 10l.94 2.06.94-2.06 2.06-.94-2.06-.94-.94-2.06-.94 2.06-2.06.94z\"/><path d=\"M17.41 7.96l-1.37-1.37c-.4-.4-.92-.59-1.43-.59-.52 0-1.04.2-1.43.59L10.3 9.45l-7.72 7.72c-.78.78-.78 2.05 0 2.83L4 21.41c.39.39.9.59 1.41.59.51 0 1.02-.2 1.41-.59l7.78-7.78 2.81-2.81c.8-.78.8-2.07 0-2.86zM5.41 20L4 18.59l7.72-7.72 1.47 1.35L5.41 20z\"/>\n",
              "  </svg>\n",
              "      </button>\n",
              "      \n",
              "  <style>\n",
              "    .colab-df-container {\n",
              "      display:flex;\n",
              "      flex-wrap:wrap;\n",
              "      gap: 12px;\n",
              "    }\n",
              "\n",
              "    .colab-df-convert {\n",
              "      background-color: #E8F0FE;\n",
              "      border: none;\n",
              "      border-radius: 50%;\n",
              "      cursor: pointer;\n",
              "      display: none;\n",
              "      fill: #1967D2;\n",
              "      height: 32px;\n",
              "      padding: 0 0 0 0;\n",
              "      width: 32px;\n",
              "    }\n",
              "\n",
              "    .colab-df-convert:hover {\n",
              "      background-color: #E2EBFA;\n",
              "      box-shadow: 0px 1px 2px rgba(60, 64, 67, 0.3), 0px 1px 3px 1px rgba(60, 64, 67, 0.15);\n",
              "      fill: #174EA6;\n",
              "    }\n",
              "\n",
              "    [theme=dark] .colab-df-convert {\n",
              "      background-color: #3B4455;\n",
              "      fill: #D2E3FC;\n",
              "    }\n",
              "\n",
              "    [theme=dark] .colab-df-convert:hover {\n",
              "      background-color: #434B5C;\n",
              "      box-shadow: 0px 1px 3px 1px rgba(0, 0, 0, 0.15);\n",
              "      filter: drop-shadow(0px 1px 2px rgba(0, 0, 0, 0.3));\n",
              "      fill: #FFFFFF;\n",
              "    }\n",
              "  </style>\n",
              "\n",
              "      <script>\n",
              "        const buttonEl =\n",
              "          document.querySelector('#df-6439d1e6-afcb-47bd-9d97-f040ba2bc358 button.colab-df-convert');\n",
              "        buttonEl.style.display =\n",
              "          google.colab.kernel.accessAllowed ? 'block' : 'none';\n",
              "\n",
              "        async function convertToInteractive(key) {\n",
              "          const element = document.querySelector('#df-6439d1e6-afcb-47bd-9d97-f040ba2bc358');\n",
              "          const dataTable =\n",
              "            await google.colab.kernel.invokeFunction('convertToInteractive',\n",
              "                                                     [key], {});\n",
              "          if (!dataTable) return;\n",
              "\n",
              "          const docLinkHtml = 'Like what you see? Visit the ' +\n",
              "            '<a target=\"_blank\" href=https://colab.research.google.com/notebooks/data_table.ipynb>data table notebook</a>'\n",
              "            + ' to learn more about interactive tables.';\n",
              "          element.innerHTML = '';\n",
              "          dataTable['output_type'] = 'display_data';\n",
              "          await google.colab.output.renderOutput(dataTable, element);\n",
              "          const docLink = document.createElement('div');\n",
              "          docLink.innerHTML = docLinkHtml;\n",
              "          element.appendChild(docLink);\n",
              "        }\n",
              "      </script>\n",
              "    </div>\n",
              "  </div>\n",
              "  "
            ],
            "text/plain": [
              "     sepal length (cm)  sepal width (cm)  ...  target  flower_species\n",
              "32                 5.2               4.1  ...       0          setosa\n",
              "146                6.3               2.5  ...       2       virginica\n",
              "75                 6.6               3.0  ...       1      versicolor\n",
              "0                  5.1               3.5  ...       0          setosa\n",
              "134                6.1               2.6  ...       2       virginica\n",
              "\n",
              "[5 rows x 6 columns]"
            ]
          },
          "metadata": {},
          "execution_count": 2
        }
      ]
    },
    {
      "cell_type": "markdown",
      "source": [
        "# Creating Feature Matrix"
      ],
      "metadata": {
        "id": "HI-K2Y56hRiU"
      }
    },
    {
      "cell_type": "code",
      "source": [
        "X = df[['sepal length (cm)', 'sepal width (cm)', 'petal length (cm)', 'petal width (cm)']]\n",
        "y = df[['target']]\n",
        "\n",
        "print('X shape=', X.shape)\n",
        "print('y shape=', y.shape)"
      ],
      "metadata": {
        "colab": {
          "base_uri": "https://localhost:8080/"
        },
        "id": "vM4K7fJ3hXyb",
        "outputId": "f2c6ebcd-cbd4-49d9-8b5f-978890570e58"
      },
      "execution_count": null,
      "outputs": [
        {
          "output_type": "stream",
          "name": "stdout",
          "text": [
            "X shape= (150, 4)\n",
            "y shape= (150, 1)\n"
          ]
        }
      ]
    },
    {
      "cell_type": "markdown",
      "source": [
        "### Creating Train and Test Dataset\n",
        "* We will split the dataset, so that we can use one set of data for training the model and one set of data for testing the model\n",
        "* We will keep 20% of data for testing and 80% of data for training the model"
      ],
      "metadata": {
        "id": "gtYf_lz8hrmP"
      }
    },
    {
      "cell_type": "code",
      "source": [
        "X_train,X_test, y_train, y_test = model_selection.train_test_split(X, y, test_size= 0.2, random_state= 1)\n",
        "print('X_train dimension= ', X_train.shape)\n",
        "print('X_test dimension= ', X_test.shape)\n",
        "print('y_train dimension= ', y_train.shape)\n",
        "print('y_test dimension= ', y_test.shape)"
      ],
      "metadata": {
        "colab": {
          "base_uri": "https://localhost:8080/"
        },
        "id": "uZp32Zrkh8w1",
        "outputId": "fd5f69cf-dc99-4262-9a90-bcfa756617c8"
      },
      "execution_count": null,
      "outputs": [
        {
          "output_type": "stream",
          "name": "stdout",
          "text": [
            "X_train dimension=  (120, 4)\n",
            "X_test dimension=  (30, 4)\n",
            "y_train dimension=  (120, 1)\n",
            "y_test dimension=  (30, 1)\n"
          ]
        }
      ]
    },
    {
      "cell_type": "markdown",
      "source": [
        "## DECISION TREES\n",
        "\n",
        "Decision tree is a machine learning  algorithm which belongs to the family of supervised learning algorithms. Unlike other supervised learning algorithms decision tree can be used to solve regression and classification problems. The goal of decision tree is to create training model that can predict class(single or multi) or value by learning simple decision rules from training data.\n",
        "Decision tree form a flow chart like structure that's why they are very easy to interpret and understand. It is one of the few ML algorithm where its very easy to visualize and analyze the internal working of algorithm.\n",
        "\n",
        "Just like flowchart, decision tree contains different types of nodes and branches. Every decision node represent the test on feature and based on the test result it will either form another branch or the leaf node. Every branch represents the decision rule and leaf node represent the final outcome.\n",
        "\n",
        "![Decision_Tree](https://user-images.githubusercontent.com/87603633/152629741-536471df-a391-49bc-bd59-b1787c42ce87.png)\n",
        "\n"
      ],
      "metadata": {
        "id": "swh2lbB5iSZi"
      }
    },
    {
      "cell_type": "markdown",
      "source": [
        "\n",
        "\n",
        "## Creating Decision Tree Classifier and training the model"
      ],
      "metadata": {
        "id": "uhFgEGx0nH16"
      }
    },
    {
      "cell_type": "code",
      "source": [
        "cls = tree.DecisionTreeClassifier(random_state= 1)\n",
        "cls.fit(X_train ,y_train)"
      ],
      "metadata": {
        "colab": {
          "base_uri": "https://localhost:8080/"
        },
        "id": "T3IcwBbgnUCB",
        "outputId": "6ec8a27a-ecbb-46a7-c254-662faafb7997"
      },
      "execution_count": null,
      "outputs": [
        {
          "output_type": "execute_result",
          "data": {
            "text/plain": [
              "DecisionTreeClassifier(random_state=1)"
            ]
          },
          "metadata": {},
          "execution_count": 5
        }
      ]
    },
    {
      "cell_type": "markdown",
      "source": [
        "### Testing The Model\n",
        "\n",
        "We are going to predict some specific species from the test data (10th, 20th and 29th)"
      ],
      "metadata": {
        "id": "dDfLrVZxnhXn"
      }
    },
    {
      "cell_type": "code",
      "source": [
        "print('Actual value of species for 10th training example=',iris.target_names[y_test.iloc[10]][0])\n",
        "print('Predicted value of species for 10th training example=', iris.target_names[cls.predict([X_test.iloc[10]])][0])\n",
        "\n",
        "print('\\nActual value of species for 20th training example=',iris.target_names[y_test.iloc[20]][0])\n",
        "print('Predicted value of species for 20th training example=', iris.target_names[cls.predict([X_test.iloc[20]])][0])\n",
        "\n",
        "print('\\nActual value of species for 30th training example=',iris.target_names[y_test.iloc[29]][0])\n",
        "print('Predicted value of species for 30th training example=', iris.target_names[cls.predict([X_test.iloc[29]])][0])"
      ],
      "metadata": {
        "colab": {
          "base_uri": "https://localhost:8080/"
        },
        "id": "d-37QW2Injri",
        "outputId": "bd63e5f8-ab34-4f68-eeb6-a8405c800c06"
      },
      "execution_count": null,
      "outputs": [
        {
          "output_type": "stream",
          "name": "stdout",
          "text": [
            "Actual value of species for 10th training example= versicolor\n",
            "Predicted value of species for 10th training example= versicolor\n",
            "\n",
            "Actual value of species for 20th training example= versicolor\n",
            "Predicted value of species for 20th training example= versicolor\n",
            "\n",
            "Actual value of species for 30th training example= virginica\n",
            "Predicted value of species for 30th training example= virginica\n"
          ]
        },
        {
          "output_type": "stream",
          "name": "stderr",
          "text": [
            "/usr/local/lib/python3.7/dist-packages/sklearn/base.py:451: UserWarning: X does not have valid feature names, but DecisionTreeClassifier was fitted with feature names\n",
            "  \"X does not have valid feature names, but\"\n",
            "/usr/local/lib/python3.7/dist-packages/sklearn/base.py:451: UserWarning: X does not have valid feature names, but DecisionTreeClassifier was fitted with feature names\n",
            "  \"X does not have valid feature names, but\"\n",
            "/usr/local/lib/python3.7/dist-packages/sklearn/base.py:451: UserWarning: X does not have valid feature names, but DecisionTreeClassifier was fitted with feature names\n",
            "  \"X does not have valid feature names, but\"\n"
          ]
        }
      ]
    },
    {
      "cell_type": "markdown",
      "source": [
        "### Model Score\n",
        "Check the model score using test data"
      ],
      "metadata": {
        "id": "djW3ClubnxC0"
      }
    },
    {
      "cell_type": "code",
      "source": [
        "cls.score(X_test, y_test)"
      ],
      "metadata": {
        "colab": {
          "base_uri": "https://localhost:8080/"
        },
        "id": "M2hYuCvHn2rf",
        "outputId": "5a8c2dd7-f0cc-4719-ebe0-8aa46dc5f729"
      },
      "execution_count": null,
      "outputs": [
        {
          "output_type": "execute_result",
          "data": {
            "text/plain": [
              "0.9666666666666667"
            ]
          },
          "metadata": {},
          "execution_count": 7
        }
      ]
    },
    {
      "cell_type": "markdown",
      "source": [
        "## Visualize The Decision Tree\n",
        "We will use plot_tree() function from sklearn to plot the tree and then export the tree in Graphviz format using the export_graphviz exporter. Results will be saved in iris_decision_tree.pdf file"
      ],
      "metadata": {
        "id": "mG584NTZn_sy"
      }
    },
    {
      "cell_type": "code",
      "source": [
        "tree.plot_tree(cls) "
      ],
      "metadata": {
        "colab": {
          "base_uri": "https://localhost:8080/",
          "height": 508
        },
        "id": "i8tJzjJWoFhm",
        "outputId": "6ed7f178-48af-4be4-d6a9-141d3b393846"
      },
      "execution_count": null,
      "outputs": [
        {
          "output_type": "execute_result",
          "data": {
            "text/plain": [
              "[Text(0.4, 0.9166666666666666, 'X[3] <= 0.8\\ngini = 0.665\\nsamples = 120\\nvalue = [39, 37, 44]'),\n",
              " Text(0.3, 0.75, 'gini = 0.0\\nsamples = 39\\nvalue = [39, 0, 0]'),\n",
              " Text(0.5, 0.75, 'X[3] <= 1.65\\ngini = 0.496\\nsamples = 81\\nvalue = [0, 37, 44]'),\n",
              " Text(0.2, 0.5833333333333334, 'X[2] <= 4.95\\ngini = 0.18\\nsamples = 40\\nvalue = [0, 36, 4]'),\n",
              " Text(0.1, 0.4166666666666667, 'gini = 0.0\\nsamples = 35\\nvalue = [0, 35, 0]'),\n",
              " Text(0.3, 0.4166666666666667, 'X[0] <= 6.05\\ngini = 0.32\\nsamples = 5\\nvalue = [0, 1, 4]'),\n",
              " Text(0.2, 0.25, 'X[3] <= 1.55\\ngini = 0.5\\nsamples = 2\\nvalue = [0, 1, 1]'),\n",
              " Text(0.1, 0.08333333333333333, 'gini = 0.0\\nsamples = 1\\nvalue = [0, 0, 1]'),\n",
              " Text(0.3, 0.08333333333333333, 'gini = 0.0\\nsamples = 1\\nvalue = [0, 1, 0]'),\n",
              " Text(0.4, 0.25, 'gini = 0.0\\nsamples = 3\\nvalue = [0, 0, 3]'),\n",
              " Text(0.8, 0.5833333333333334, 'X[2] <= 4.85\\ngini = 0.048\\nsamples = 41\\nvalue = [0, 1, 40]'),\n",
              " Text(0.7, 0.4166666666666667, 'X[1] <= 3.1\\ngini = 0.375\\nsamples = 4\\nvalue = [0, 1, 3]'),\n",
              " Text(0.6, 0.25, 'gini = 0.0\\nsamples = 3\\nvalue = [0, 0, 3]'),\n",
              " Text(0.8, 0.25, 'gini = 0.0\\nsamples = 1\\nvalue = [0, 1, 0]'),\n",
              " Text(0.9, 0.4166666666666667, 'gini = 0.0\\nsamples = 37\\nvalue = [0, 0, 37]')]"
            ]
          },
          "metadata": {},
          "execution_count": 8
        },
        {
          "output_type": "display_data",
          "data": {
            "image/png": "[encoded data removed]",
            "text/plain": [
              "<Figure size 432x288 with 1 Axes>"
            ]
          },
          "metadata": {
            "needs_background": "light"
          }
        }
      ]
    },
    {
      "cell_type": "code",
      "source": [
        "dot_data = tree.export_graphviz(cls, out_file=None) \n",
        "graph = graphviz.Source(dot_data) \n",
        "graph.render(\"iris_decision_tree\") "
      ],
      "metadata": {
        "colab": {
          "base_uri": "https://localhost:8080/",
          "height": 35
        },
        "id": "UqgvC6CFoL9v",
        "outputId": "8cd750c7-1059-474d-e5b6-c19e95348dc7"
      },
      "execution_count": null,
      "outputs": [
        {
          "output_type": "execute_result",
          "data": {
            "application/vnd.google.colaboratory.intrinsic+json": {
              "type": "string"
            },
            "text/plain": [
              "'iris_decision_tree.pdf'"
            ]
          },
          "metadata": {},
          "execution_count": 9
        }
      ]
    },
    {
      "cell_type": "code",
      "source": [
        "dot_data = tree.export_graphviz(cls, out_file=None, \n",
        "                      feature_names=iris.feature_names,  \n",
        "                      class_names=iris.target_names,  \n",
        "                      filled=True, rounded=True,  \n",
        "                      special_characters=True)  \n",
        "graph = graphviz.Source(dot_data)  \n",
        "graph "
      ],
      "metadata": {
        "colab": {
          "base_uri": "https://localhost:8080/",
          "height": 916
        },
        "id": "NUukiNZioQ3o",
        "outputId": "fab7475d-99dc-4c9c-f5e4-85c53640a1d9"
      },
      "execution_count": null,
      "outputs": [
        {
          "output_type": "execute_result",
          "data": {
            "text/plain": [
              "<graphviz.files.Source at 0x7fa13d6f8410>"
            ],
            "image/svg+xml": "<?xml version=\"1.0\" encoding=\"UTF-8\" standalone=\"no\"?>\n<!DOCTYPE svg PUBLIC \"-//W3C//DTD SVG 1.1//EN\"\n \"http://www.w3.org/Graphics/SVG/1.1/DTD/svg11.dtd\">\n<!-- Generated by graphviz version 2.40.1 (20161225.0304)\n -->\n<!-- Title: Tree Pages: 1 -->\n<svg width=\"688pt\" height=\"671pt\"\n viewBox=\"0.00 0.00 688.00 671.00\" xmlns=\"http://www.w3.org/2000/svg\" xmlns:xlink=\"http://www.w3.org/1999/xlink\">\n<g id=\"graph0\" class=\"graph\" transform=\"scale(1 1) rotate(0) translate(4 667)\">\n<title>Tree</title>\n<polygon fill=\"#ffffff\" stroke=\"transparent\" points=\"-4,4 -4,-667 684,-667 684,4 -4,4\"/>\n<!-- 0 -->\n<g id=\"node1\" class=\"node\">\n<title>0</title>\n<path fill=\"#f7f3fd\" stroke=\"#000000\" d=\"M353,-663C353,-663 224,-663 224,-663 218,-663 212,-657 212,-651 212,-651 212,-592 212,-592 212,-586 218,-580 224,-580 224,-580 353,-580 353,-580 359,-580 365,-586 365,-592 365,-592 365,-651 365,-651 365,-657 359,-663 353,-663\"/>\n<text text-anchor=\"start\" x=\"220\" y=\"-647.8\" font-family=\"Helvetica,sans-Serif\" font-size=\"14.00\" fill=\"#000000\">petal width (cm) ≤ 0.8</text>\n<text text-anchor=\"start\" x=\"250.5\" y=\"-632.8\" font-family=\"Helvetica,sans-Serif\" font-size=\"14.00\" fill=\"#000000\">gini = 0.665</text>\n<text text-anchor=\"start\" x=\"240.5\" y=\"-617.8\" font-family=\"Helvetica,sans-Serif\" font-size=\"14.00\" fill=\"#000000\">samples = 120</text>\n<text text-anchor=\"start\" x=\"226.5\" y=\"-602.8\" font-family=\"Helvetica,sans-Serif\" font-size=\"14.00\" fill=\"#000000\">value = [39, 37, 44]</text>\n<text text-anchor=\"start\" x=\"237\" y=\"-587.8\" font-family=\"Helvetica,sans-Serif\" font-size=\"14.00\" fill=\"#000000\">class = virginica</text>\n</g>\n<!-- 1 -->\n<g id=\"node2\" class=\"node\">\n<title>1</title>\n<path fill=\"#e58139\" stroke=\"#000000\" d=\"M258,-536.5C258,-536.5 159,-536.5 159,-536.5 153,-536.5 147,-530.5 147,-524.5 147,-524.5 147,-480.5 147,-480.5 147,-474.5 153,-468.5 159,-468.5 159,-468.5 258,-468.5 258,-468.5 264,-468.5 270,-474.5 270,-480.5 270,-480.5 270,-524.5 270,-524.5 270,-530.5 264,-536.5 258,-536.5\"/>\n<text text-anchor=\"start\" x=\"179\" y=\"-521.3\" font-family=\"Helvetica,sans-Serif\" font-size=\"14.00\" fill=\"#000000\">gini = 0.0</text>\n<text text-anchor=\"start\" x=\"164.5\" y=\"-506.3\" font-family=\"Helvetica,sans-Serif\" font-size=\"14.00\" fill=\"#000000\">samples = 39</text>\n<text text-anchor=\"start\" x=\"155\" y=\"-491.3\" font-family=\"Helvetica,sans-Serif\" font-size=\"14.00\" fill=\"#000000\">value = [39, 0, 0]</text>\n<text text-anchor=\"start\" x=\"161.5\" y=\"-476.3\" font-family=\"Helvetica,sans-Serif\" font-size=\"14.00\" fill=\"#000000\">class = setosa</text>\n</g>\n<!-- 0&#45;&gt;1 -->\n<g id=\"edge1\" class=\"edge\">\n<title>0&#45;&gt;1</title>\n<path fill=\"none\" stroke=\"#000000\" d=\"M260.5199,-579.8796C252.9797,-568.6636 244.8113,-556.5131 237.2309,-545.2372\"/>\n<polygon fill=\"#000000\" stroke=\"#000000\" points=\"240.0527,-543.1612 231.5689,-536.8149 234.2434,-547.0667 240.0527,-543.1612\"/>\n<text text-anchor=\"middle\" x=\"226.7608\" y=\"-557.6482\" font-family=\"Helvetica,sans-Serif\" font-size=\"14.00\" fill=\"#000000\">True</text>\n</g>\n<!-- 2 -->\n<g id=\"node3\" class=\"node\">\n<title>2</title>\n<path fill=\"#ebe0fb\" stroke=\"#000000\" d=\"M437,-544C437,-544 300,-544 300,-544 294,-544 288,-538 288,-532 288,-532 288,-473 288,-473 288,-467 294,-461 300,-461 300,-461 437,-461 437,-461 443,-461 449,-467 449,-473 449,-473 449,-532 449,-532 449,-538 443,-544 437,-544\"/>\n<text text-anchor=\"start\" x=\"296\" y=\"-528.8\" font-family=\"Helvetica,sans-Serif\" font-size=\"14.00\" fill=\"#000000\">petal width (cm) ≤ 1.65</text>\n<text text-anchor=\"start\" x=\"330.5\" y=\"-513.8\" font-family=\"Helvetica,sans-Serif\" font-size=\"14.00\" fill=\"#000000\">gini = 0.496</text>\n<text text-anchor=\"start\" x=\"324.5\" y=\"-498.8\" font-family=\"Helvetica,sans-Serif\" font-size=\"14.00\" fill=\"#000000\">samples = 81</text>\n<text text-anchor=\"start\" x=\"311\" y=\"-483.8\" font-family=\"Helvetica,sans-Serif\" font-size=\"14.00\" fill=\"#000000\">value = [0, 37, 44]</text>\n<text text-anchor=\"start\" x=\"317\" y=\"-468.8\" font-family=\"Helvetica,sans-Serif\" font-size=\"14.00\" fill=\"#000000\">class = virginica</text>\n</g>\n<!-- 0&#45;&gt;2 -->\n<g id=\"edge2\" class=\"edge\">\n<title>0&#45;&gt;2</title>\n<path fill=\"none\" stroke=\"#000000\" d=\"M316.4801,-579.8796C322.3531,-571.1434 328.6073,-561.8404 334.6679,-552.8253\"/>\n<polygon fill=\"#000000\" stroke=\"#000000\" points=\"337.7259,-554.5498 340.4005,-544.2981 331.9166,-550.6444 337.7259,-554.5498\"/>\n<text text-anchor=\"middle\" x=\"345.2085\" y=\"-565.1314\" font-family=\"Helvetica,sans-Serif\" font-size=\"14.00\" fill=\"#000000\">False</text>\n</g>\n<!-- 3 -->\n<g id=\"node4\" class=\"node\">\n<title>3</title>\n<path fill=\"#4fe88f\" stroke=\"#000000\" d=\"M348,-425C348,-425 205,-425 205,-425 199,-425 193,-419 193,-413 193,-413 193,-354 193,-354 193,-348 199,-342 205,-342 205,-342 348,-342 348,-342 354,-342 360,-348 360,-354 360,-354 360,-413 360,-413 360,-419 354,-425 348,-425\"/>\n<text text-anchor=\"start\" x=\"201\" y=\"-409.8\" font-family=\"Helvetica,sans-Serif\" font-size=\"14.00\" fill=\"#000000\">petal length (cm) ≤ 4.95</text>\n<text text-anchor=\"start\" x=\"243\" y=\"-394.8\" font-family=\"Helvetica,sans-Serif\" font-size=\"14.00\" fill=\"#000000\">gini = 0.18</text>\n<text text-anchor=\"start\" x=\"232.5\" y=\"-379.8\" font-family=\"Helvetica,sans-Serif\" font-size=\"14.00\" fill=\"#000000\">samples = 40</text>\n<text text-anchor=\"start\" x=\"223\" y=\"-364.8\" font-family=\"Helvetica,sans-Serif\" font-size=\"14.00\" fill=\"#000000\">value = [0, 36, 4]</text>\n<text text-anchor=\"start\" x=\"220.5\" y=\"-349.8\" font-family=\"Helvetica,sans-Serif\" font-size=\"14.00\" fill=\"#000000\">class = versicolor</text>\n</g>\n<!-- 2&#45;&gt;3 -->\n<g id=\"edge3\" class=\"edge\">\n<title>2&#45;&gt;3</title>\n<path fill=\"none\" stroke=\"#000000\" d=\"M336.3229,-460.8796C329.4296,-451.9633 322.0798,-442.4565 314.9761,-433.268\"/>\n<polygon fill=\"#000000\" stroke=\"#000000\" points=\"317.6999,-431.0687 308.8145,-425.2981 312.1619,-435.3502 317.6999,-431.0687\"/>\n</g>\n<!-- 10 -->\n<g id=\"node11\" class=\"node\">\n<title>10</title>\n<path fill=\"#843ee6\" stroke=\"#000000\" d=\"M533,-425C533,-425 390,-425 390,-425 384,-425 378,-419 378,-413 378,-413 378,-354 378,-354 378,-348 384,-342 390,-342 390,-342 533,-342 533,-342 539,-342 545,-348 545,-354 545,-354 545,-413 545,-413 545,-419 539,-425 533,-425\"/>\n<text text-anchor=\"start\" x=\"386\" y=\"-409.8\" font-family=\"Helvetica,sans-Serif\" font-size=\"14.00\" fill=\"#000000\">petal length (cm) ≤ 4.85</text>\n<text text-anchor=\"start\" x=\"423.5\" y=\"-394.8\" font-family=\"Helvetica,sans-Serif\" font-size=\"14.00\" fill=\"#000000\">gini = 0.048</text>\n<text text-anchor=\"start\" x=\"417.5\" y=\"-379.8\" font-family=\"Helvetica,sans-Serif\" font-size=\"14.00\" fill=\"#000000\">samples = 41</text>\n<text text-anchor=\"start\" x=\"408\" y=\"-364.8\" font-family=\"Helvetica,sans-Serif\" font-size=\"14.00\" fill=\"#000000\">value = [0, 1, 40]</text>\n<text text-anchor=\"start\" x=\"410\" y=\"-349.8\" font-family=\"Helvetica,sans-Serif\" font-size=\"14.00\" fill=\"#000000\">class = virginica</text>\n</g>\n<!-- 2&#45;&gt;10 -->\n<g id=\"edge10\" class=\"edge\">\n<title>2&#45;&gt;10</title>\n<path fill=\"none\" stroke=\"#000000\" d=\"M401.0269,-460.8796C407.9951,-451.9633 415.4247,-442.4565 422.6056,-433.268\"/>\n<polygon fill=\"#000000\" stroke=\"#000000\" points=\"425.4343,-435.3326 428.8343,-425.2981 419.9188,-431.0221 425.4343,-435.3326\"/>\n</g>\n<!-- 4 -->\n<g id=\"node5\" class=\"node\">\n<title>4</title>\n<path fill=\"#39e581\" stroke=\"#000000\" d=\"M161.5,-298.5C161.5,-298.5 57.5,-298.5 57.5,-298.5 51.5,-298.5 45.5,-292.5 45.5,-286.5 45.5,-286.5 45.5,-242.5 45.5,-242.5 45.5,-236.5 51.5,-230.5 57.5,-230.5 57.5,-230.5 161.5,-230.5 161.5,-230.5 167.5,-230.5 173.5,-236.5 173.5,-242.5 173.5,-242.5 173.5,-286.5 173.5,-286.5 173.5,-292.5 167.5,-298.5 161.5,-298.5\"/>\n<text text-anchor=\"start\" x=\"80\" y=\"-283.3\" font-family=\"Helvetica,sans-Serif\" font-size=\"14.00\" fill=\"#000000\">gini = 0.0</text>\n<text text-anchor=\"start\" x=\"65.5\" y=\"-268.3\" font-family=\"Helvetica,sans-Serif\" font-size=\"14.00\" fill=\"#000000\">samples = 35</text>\n<text text-anchor=\"start\" x=\"56\" y=\"-253.3\" font-family=\"Helvetica,sans-Serif\" font-size=\"14.00\" fill=\"#000000\">value = [0, 35, 0]</text>\n<text text-anchor=\"start\" x=\"53.5\" y=\"-238.3\" font-family=\"Helvetica,sans-Serif\" font-size=\"14.00\" fill=\"#000000\">class = versicolor</text>\n</g>\n<!-- 3&#45;&gt;4 -->\n<g id=\"edge4\" class=\"edge\">\n<title>3&#45;&gt;4</title>\n<path fill=\"none\" stroke=\"#000000\" d=\"M218.0915,-341.8796C201.036,-329.7263 182.4409,-316.4759 165.5359,-304.4297\"/>\n<polygon fill=\"#000000\" stroke=\"#000000\" points=\"167.562,-301.5759 157.3869,-298.623 163.4998,-307.2766 167.562,-301.5759\"/>\n</g>\n<!-- 5 -->\n<g id=\"node6\" class=\"node\">\n<title>5</title>\n<path fill=\"#a06aec\" stroke=\"#000000\" d=\"M351,-306C351,-306 204,-306 204,-306 198,-306 192,-300 192,-294 192,-294 192,-235 192,-235 192,-229 198,-223 204,-223 204,-223 351,-223 351,-223 357,-223 363,-229 363,-235 363,-235 363,-294 363,-294 363,-300 357,-306 351,-306\"/>\n<text text-anchor=\"start\" x=\"200\" y=\"-290.8\" font-family=\"Helvetica,sans-Serif\" font-size=\"14.00\" fill=\"#000000\">sepal length (cm) ≤ 6.05</text>\n<text text-anchor=\"start\" x=\"244\" y=\"-275.8\" font-family=\"Helvetica,sans-Serif\" font-size=\"14.00\" fill=\"#000000\">gini = 0.32</text>\n<text text-anchor=\"start\" x=\"238\" y=\"-260.8\" font-family=\"Helvetica,sans-Serif\" font-size=\"14.00\" fill=\"#000000\">samples = 5</text>\n<text text-anchor=\"start\" x=\"228\" y=\"-245.8\" font-family=\"Helvetica,sans-Serif\" font-size=\"14.00\" fill=\"#000000\">value = [0, 1, 4]</text>\n<text text-anchor=\"start\" x=\"226\" y=\"-230.8\" font-family=\"Helvetica,sans-Serif\" font-size=\"14.00\" fill=\"#000000\">class = virginica</text>\n</g>\n<!-- 3&#45;&gt;5 -->\n<g id=\"edge5\" class=\"edge\">\n<title>3&#45;&gt;5</title>\n<path fill=\"none\" stroke=\"#000000\" d=\"M276.8498,-341.8796C276.9186,-333.6838 276.9917,-324.9891 277.063,-316.5013\"/>\n<polygon fill=\"#000000\" stroke=\"#000000\" points=\"280.5645,-316.3272 277.1488,-306.2981 273.5648,-316.2683 280.5645,-316.3272\"/>\n</g>\n<!-- 6 -->\n<g id=\"node7\" class=\"node\">\n<title>6</title>\n<path fill=\"#ffffff\" stroke=\"#000000\" d=\"M199,-187C199,-187 62,-187 62,-187 56,-187 50,-181 50,-175 50,-175 50,-116 50,-116 50,-110 56,-104 62,-104 62,-104 199,-104 199,-104 205,-104 211,-110 211,-116 211,-116 211,-175 211,-175 211,-181 205,-187 199,-187\"/>\n<text text-anchor=\"start\" x=\"58\" y=\"-171.8\" font-family=\"Helvetica,sans-Serif\" font-size=\"14.00\" fill=\"#000000\">petal width (cm) ≤ 1.55</text>\n<text text-anchor=\"start\" x=\"101\" y=\"-156.8\" font-family=\"Helvetica,sans-Serif\" font-size=\"14.00\" fill=\"#000000\">gini = 0.5</text>\n<text text-anchor=\"start\" x=\"91\" y=\"-141.8\" font-family=\"Helvetica,sans-Serif\" font-size=\"14.00\" fill=\"#000000\">samples = 2</text>\n<text text-anchor=\"start\" x=\"81\" y=\"-126.8\" font-family=\"Helvetica,sans-Serif\" font-size=\"14.00\" fill=\"#000000\">value = [0, 1, 1]</text>\n<text text-anchor=\"start\" x=\"74.5\" y=\"-111.8\" font-family=\"Helvetica,sans-Serif\" font-size=\"14.00\" fill=\"#000000\">class = versicolor</text>\n</g>\n<!-- 5&#45;&gt;6 -->\n<g id=\"edge6\" class=\"edge\">\n<title>5&#45;&gt;6</title>\n<path fill=\"none\" stroke=\"#000000\" d=\"M226.0865,-222.8796C214.4048,-213.4229 201.9025,-203.302 189.919,-193.6011\"/>\n<polygon fill=\"#000000\" stroke=\"#000000\" points=\"192.1076,-190.8697 182.1329,-187.2981 187.7032,-196.3105 192.1076,-190.8697\"/>\n</g>\n<!-- 9 -->\n<g id=\"node10\" class=\"node\">\n<title>9</title>\n<path fill=\"#8139e5\" stroke=\"#000000\" d=\"M336,-179.5C336,-179.5 241,-179.5 241,-179.5 235,-179.5 229,-173.5 229,-167.5 229,-167.5 229,-123.5 229,-123.5 229,-117.5 235,-111.5 241,-111.5 241,-111.5 336,-111.5 336,-111.5 342,-111.5 348,-117.5 348,-123.5 348,-123.5 348,-167.5 348,-167.5 348,-173.5 342,-179.5 336,-179.5\"/>\n<text text-anchor=\"start\" x=\"259\" y=\"-164.3\" font-family=\"Helvetica,sans-Serif\" font-size=\"14.00\" fill=\"#000000\">gini = 0.0</text>\n<text text-anchor=\"start\" x=\"249\" y=\"-149.3\" font-family=\"Helvetica,sans-Serif\" font-size=\"14.00\" fill=\"#000000\">samples = 3</text>\n<text text-anchor=\"start\" x=\"239\" y=\"-134.3\" font-family=\"Helvetica,sans-Serif\" font-size=\"14.00\" fill=\"#000000\">value = [0, 0, 3]</text>\n<text text-anchor=\"start\" x=\"237\" y=\"-119.3\" font-family=\"Helvetica,sans-Serif\" font-size=\"14.00\" fill=\"#000000\">class = virginica</text>\n</g>\n<!-- 5&#45;&gt;9 -->\n<g id=\"edge9\" class=\"edge\">\n<title>5&#45;&gt;9</title>\n<path fill=\"none\" stroke=\"#000000\" d=\"M281.3473,-222.8796C282.3332,-212.2134 283.3973,-200.7021 284.3957,-189.9015\"/>\n<polygon fill=\"#000000\" stroke=\"#000000\" points=\"287.8926,-190.0947 285.328,-179.8149 280.9224,-189.4503 287.8926,-190.0947\"/>\n</g>\n<!-- 7 -->\n<g id=\"node8\" class=\"node\">\n<title>7</title>\n<path fill=\"#8139e5\" stroke=\"#000000\" d=\"M107,-68C107,-68 12,-68 12,-68 6,-68 0,-62 0,-56 0,-56 0,-12 0,-12 0,-6 6,0 12,0 12,0 107,0 107,0 113,0 119,-6 119,-12 119,-12 119,-56 119,-56 119,-62 113,-68 107,-68\"/>\n<text text-anchor=\"start\" x=\"30\" y=\"-52.8\" font-family=\"Helvetica,sans-Serif\" font-size=\"14.00\" fill=\"#000000\">gini = 0.0</text>\n<text text-anchor=\"start\" x=\"20\" y=\"-37.8\" font-family=\"Helvetica,sans-Serif\" font-size=\"14.00\" fill=\"#000000\">samples = 1</text>\n<text text-anchor=\"start\" x=\"10\" y=\"-22.8\" font-family=\"Helvetica,sans-Serif\" font-size=\"14.00\" fill=\"#000000\">value = [0, 0, 1]</text>\n<text text-anchor=\"start\" x=\"8\" y=\"-7.8\" font-family=\"Helvetica,sans-Serif\" font-size=\"14.00\" fill=\"#000000\">class = virginica</text>\n</g>\n<!-- 6&#45;&gt;7 -->\n<g id=\"edge7\" class=\"edge\">\n<title>6&#45;&gt;7</title>\n<path fill=\"none\" stroke=\"#000000\" d=\"M104.0622,-103.9815C98.444,-95.1585 92.5012,-85.8258 86.8497,-76.9506\"/>\n<polygon fill=\"#000000\" stroke=\"#000000\" points=\"89.6416,-74.8188 81.3181,-68.2637 83.7371,-78.5787 89.6416,-74.8188\"/>\n</g>\n<!-- 8 -->\n<g id=\"node9\" class=\"node\">\n<title>8</title>\n<path fill=\"#39e581\" stroke=\"#000000\" d=\"M253.5,-68C253.5,-68 149.5,-68 149.5,-68 143.5,-68 137.5,-62 137.5,-56 137.5,-56 137.5,-12 137.5,-12 137.5,-6 143.5,0 149.5,0 149.5,0 253.5,0 253.5,0 259.5,0 265.5,-6 265.5,-12 265.5,-12 265.5,-56 265.5,-56 265.5,-62 259.5,-68 253.5,-68\"/>\n<text text-anchor=\"start\" x=\"172\" y=\"-52.8\" font-family=\"Helvetica,sans-Serif\" font-size=\"14.00\" fill=\"#000000\">gini = 0.0</text>\n<text text-anchor=\"start\" x=\"162\" y=\"-37.8\" font-family=\"Helvetica,sans-Serif\" font-size=\"14.00\" fill=\"#000000\">samples = 1</text>\n<text text-anchor=\"start\" x=\"152\" y=\"-22.8\" font-family=\"Helvetica,sans-Serif\" font-size=\"14.00\" fill=\"#000000\">value = [0, 1, 0]</text>\n<text text-anchor=\"start\" x=\"145.5\" y=\"-7.8\" font-family=\"Helvetica,sans-Serif\" font-size=\"14.00\" fill=\"#000000\">class = versicolor</text>\n</g>\n<!-- 6&#45;&gt;8 -->\n<g id=\"edge8\" class=\"edge\">\n<title>6&#45;&gt;8</title>\n<path fill=\"none\" stroke=\"#000000\" d=\"M156.9378,-103.9815C162.556,-95.1585 168.4988,-85.8258 174.1503,-76.9506\"/>\n<polygon fill=\"#000000\" stroke=\"#000000\" points=\"177.2629,-78.5787 179.6819,-68.2637 171.3584,-74.8188 177.2629,-78.5787\"/>\n</g>\n<!-- 11 -->\n<g id=\"node12\" class=\"node\">\n<title>11</title>\n<path fill=\"#ab7bee\" stroke=\"#000000\" d=\"M527,-306C527,-306 394,-306 394,-306 388,-306 382,-300 382,-294 382,-294 382,-235 382,-235 382,-229 388,-223 394,-223 394,-223 527,-223 527,-223 533,-223 539,-229 539,-235 539,-235 539,-294 539,-294 539,-300 533,-306 527,-306\"/>\n<text text-anchor=\"start\" x=\"390\" y=\"-290.8\" font-family=\"Helvetica,sans-Serif\" font-size=\"14.00\" fill=\"#000000\">sepal width (cm) ≤ 3.1</text>\n<text text-anchor=\"start\" x=\"422.5\" y=\"-275.8\" font-family=\"Helvetica,sans-Serif\" font-size=\"14.00\" fill=\"#000000\">gini = 0.375</text>\n<text text-anchor=\"start\" x=\"421\" y=\"-260.8\" font-family=\"Helvetica,sans-Serif\" font-size=\"14.00\" fill=\"#000000\">samples = 4</text>\n<text text-anchor=\"start\" x=\"411\" y=\"-245.8\" font-family=\"Helvetica,sans-Serif\" font-size=\"14.00\" fill=\"#000000\">value = [0, 1, 3]</text>\n<text text-anchor=\"start\" x=\"409\" y=\"-230.8\" font-family=\"Helvetica,sans-Serif\" font-size=\"14.00\" fill=\"#000000\">class = virginica</text>\n</g>\n<!-- 10&#45;&gt;11 -->\n<g id=\"edge11\" class=\"edge\">\n<title>10&#45;&gt;11</title>\n<path fill=\"none\" stroke=\"#000000\" d=\"M461.1502,-341.8796C461.0814,-333.6838 461.0083,-324.9891 460.937,-316.5013\"/>\n<polygon fill=\"#000000\" stroke=\"#000000\" points=\"464.4352,-316.2683 460.8512,-306.2981 457.4355,-316.3272 464.4352,-316.2683\"/>\n</g>\n<!-- 14 -->\n<g id=\"node15\" class=\"node\">\n<title>14</title>\n<path fill=\"#8139e5\" stroke=\"#000000\" d=\"M668,-298.5C668,-298.5 569,-298.5 569,-298.5 563,-298.5 557,-292.5 557,-286.5 557,-286.5 557,-242.5 557,-242.5 557,-236.5 563,-230.5 569,-230.5 569,-230.5 668,-230.5 668,-230.5 674,-230.5 680,-236.5 680,-242.5 680,-242.5 680,-286.5 680,-286.5 680,-292.5 674,-298.5 668,-298.5\"/>\n<text text-anchor=\"start\" x=\"589\" y=\"-283.3\" font-family=\"Helvetica,sans-Serif\" font-size=\"14.00\" fill=\"#000000\">gini = 0.0</text>\n<text text-anchor=\"start\" x=\"574.5\" y=\"-268.3\" font-family=\"Helvetica,sans-Serif\" font-size=\"14.00\" fill=\"#000000\">samples = 37</text>\n<text text-anchor=\"start\" x=\"565\" y=\"-253.3\" font-family=\"Helvetica,sans-Serif\" font-size=\"14.00\" fill=\"#000000\">value = [0, 0, 37]</text>\n<text text-anchor=\"start\" x=\"567\" y=\"-238.3\" font-family=\"Helvetica,sans-Serif\" font-size=\"14.00\" fill=\"#000000\">class = virginica</text>\n</g>\n<!-- 10&#45;&gt;14 -->\n<g id=\"edge14\" class=\"edge\">\n<title>10&#45;&gt;14</title>\n<path fill=\"none\" stroke=\"#000000\" d=\"M516.411,-341.8796C532.2994,-329.8368 549.6091,-316.7167 565.3857,-304.7586\"/>\n<polygon fill=\"#000000\" stroke=\"#000000\" points=\"567.6253,-307.4529 573.4805,-298.623 563.3969,-301.8743 567.6253,-307.4529\"/>\n</g>\n<!-- 12 -->\n<g id=\"node13\" class=\"node\">\n<title>12</title>\n<path fill=\"#8139e5\" stroke=\"#000000\" d=\"M497,-179.5C497,-179.5 402,-179.5 402,-179.5 396,-179.5 390,-173.5 390,-167.5 390,-167.5 390,-123.5 390,-123.5 390,-117.5 396,-111.5 402,-111.5 402,-111.5 497,-111.5 497,-111.5 503,-111.5 509,-117.5 509,-123.5 509,-123.5 509,-167.5 509,-167.5 509,-173.5 503,-179.5 497,-179.5\"/>\n<text text-anchor=\"start\" x=\"420\" y=\"-164.3\" font-family=\"Helvetica,sans-Serif\" font-size=\"14.00\" fill=\"#000000\">gini = 0.0</text>\n<text text-anchor=\"start\" x=\"410\" y=\"-149.3\" font-family=\"Helvetica,sans-Serif\" font-size=\"14.00\" fill=\"#000000\">samples = 3</text>\n<text text-anchor=\"start\" x=\"400\" y=\"-134.3\" font-family=\"Helvetica,sans-Serif\" font-size=\"14.00\" fill=\"#000000\">value = [0, 0, 3]</text>\n<text text-anchor=\"start\" x=\"398\" y=\"-119.3\" font-family=\"Helvetica,sans-Serif\" font-size=\"14.00\" fill=\"#000000\">class = virginica</text>\n</g>\n<!-- 11&#45;&gt;12 -->\n<g id=\"edge12\" class=\"edge\">\n<title>11&#45;&gt;12</title>\n<path fill=\"none\" stroke=\"#000000\" d=\"M456.6527,-222.8796C455.6668,-212.2134 454.6027,-200.7021 453.6043,-189.9015\"/>\n<polygon fill=\"#000000\" stroke=\"#000000\" points=\"457.0776,-189.4503 452.672,-179.8149 450.1074,-190.0947 457.0776,-189.4503\"/>\n</g>\n<!-- 13 -->\n<g id=\"node14\" class=\"node\">\n<title>13</title>\n<path fill=\"#39e581\" stroke=\"#000000\" d=\"M643.5,-179.5C643.5,-179.5 539.5,-179.5 539.5,-179.5 533.5,-179.5 527.5,-173.5 527.5,-167.5 527.5,-167.5 527.5,-123.5 527.5,-123.5 527.5,-117.5 533.5,-111.5 539.5,-111.5 539.5,-111.5 643.5,-111.5 643.5,-111.5 649.5,-111.5 655.5,-117.5 655.5,-123.5 655.5,-123.5 655.5,-167.5 655.5,-167.5 655.5,-173.5 649.5,-179.5 643.5,-179.5\"/>\n<text text-anchor=\"start\" x=\"562\" y=\"-164.3\" font-family=\"Helvetica,sans-Serif\" font-size=\"14.00\" fill=\"#000000\">gini = 0.0</text>\n<text text-anchor=\"start\" x=\"552\" y=\"-149.3\" font-family=\"Helvetica,sans-Serif\" font-size=\"14.00\" fill=\"#000000\">samples = 1</text>\n<text text-anchor=\"start\" x=\"542\" y=\"-134.3\" font-family=\"Helvetica,sans-Serif\" font-size=\"14.00\" fill=\"#000000\">value = [0, 1, 0]</text>\n<text text-anchor=\"start\" x=\"535.5\" y=\"-119.3\" font-family=\"Helvetica,sans-Serif\" font-size=\"14.00\" fill=\"#000000\">class = versicolor</text>\n</g>\n<!-- 11&#45;&gt;13 -->\n<g id=\"edge13\" class=\"edge\">\n<title>11&#45;&gt;13</title>\n<path fill=\"none\" stroke=\"#000000\" d=\"M506.3174,-222.8796C519.2697,-211.1138 533.354,-198.3197 546.2714,-186.5855\"/>\n<polygon fill=\"#000000\" stroke=\"#000000\" points=\"548.6761,-189.1296 553.7247,-179.8149 543.9694,-183.9482 548.6761,-189.1296\"/>\n</g>\n</g>\n</svg>\n"
          },
          "metadata": {},
          "execution_count": 10
        }
      ]
    },
    {
      "cell_type": "markdown",
      "source": [
        "## LOGISTIC REGRESSION\n",
        "Logistic regression is one of the most popular Machine Learning algorithms, which comes under the Supervised Learning technique. It is used for predicting the categorical dependent variable using a given set of independent variables. The outcome can be either Yes or No, 0 or 1, true or False, etc. but instead of giving the exact value as 0 and 1, it gives the probabilistic values which lie between 0 and 1.\n",
        "\n",
        "In Logistic regression, we fit an \"S\" shaped logistic function, which predicts two maximum values (0 or 1).\n",
        "The curve from the logistic function indicates the likelihood of something such as whether the cells are cancerous or not, a mouse is obese or not based on its weight, etc.\n",
        "Logistic Regression is a significant machine learning algorithm because it has the ability to provide probabilities and classify new data using continuous and discrete datasets.\n",
        "Logistic Regression can be used to classify the observations using different types of data and can easily determine the most effective variables used for the classification. The below image is showing the logistic function:\n",
        "\n",
        "<img src=\"https://image3.slideserve.com/6047919/logistic-regression-curve-l.jpg\" id=\"img\" style=\"width: 616px; height: 462px;\">\n",
        "\n",
        "### Training and Testing the LOGISTIC REGRESSION model"
      ],
      "metadata": {
        "id": "Wjk_5aUYEzLK"
      }
    },
    {
      "cell_type": "code",
      "source": [
        "from sklearn.linear_model import LogisticRegression\n",
        "lr = LogisticRegression()\n",
        "lr.fit(X_train ,y_train)\n",
        "y_predict=lr.predict(X_test)\n",
        "y_predict"
      ],
      "metadata": {
        "colab": {
          "base_uri": "https://localhost:8080/"
        },
        "id": "Fo6Ca9TsMtB7",
        "outputId": "e86583fa-52eb-4dfd-986b-c399c9799ba4"
      },
      "execution_count": null,
      "outputs": [
        {
          "output_type": "stream",
          "name": "stderr",
          "text": [
            "/usr/local/lib/python3.7/dist-packages/sklearn/utils/validation.py:993: DataConversionWarning: A column-vector y was passed when a 1d array was expected. Please change the shape of y to (n_samples, ), for example using ravel().\n",
            "  y = column_or_1d(y, warn=True)\n",
            "/usr/local/lib/python3.7/dist-packages/sklearn/linear_model/_logistic.py:818: ConvergenceWarning: lbfgs failed to converge (status=1):\n",
            "STOP: TOTAL NO. of ITERATIONS REACHED LIMIT.\n",
            "\n",
            "Increase the number of iterations (max_iter) or scale the data as shown in:\n",
            "    https://scikit-learn.org/stable/modules/preprocessing.html\n",
            "Please also refer to the documentation for alternative solver options:\n",
            "    https://scikit-learn.org/stable/modules/linear_model.html#logistic-regression\n",
            "  extra_warning_msg=_LOGISTIC_SOLVER_CONVERGENCE_MSG,\n"
          ]
        },
        {
          "output_type": "execute_result",
          "data": {
            "text/plain": [
              "array([0, 1, 1, 0, 2, 1, 2, 0, 0, 2, 1, 0, 2, 1, 1, 0, 1, 1, 0, 0, 1, 1,\n",
              "       2, 0, 2, 1, 0, 0, 1, 2])"
            ]
          },
          "metadata": {},
          "execution_count": 11
        }
      ]
    },
    {
      "cell_type": "markdown",
      "source": [
        "### Calculating the accuracy score"
      ],
      "metadata": {
        "id": "Palzese9ZHx9"
      }
    },
    {
      "cell_type": "code",
      "source": [
        "from sklearn.metrics import accuracy_score\n",
        "accuracy_score(y_test, y_predict)"
      ],
      "metadata": {
        "colab": {
          "base_uri": "https://localhost:8080/"
        },
        "id": "2vLr-i6UNnnV",
        "outputId": "bf12d0f7-e504-4b97-b0fa-b4306bd4b179"
      },
      "execution_count": null,
      "outputs": [
        {
          "output_type": "execute_result",
          "data": {
            "text/plain": [
              "0.9666666666666667"
            ]
          },
          "metadata": {},
          "execution_count": 12
        }
      ]
    },
    {
      "cell_type": "markdown",
      "source": [
        "### Display the Confusion matrix\n",
        "The confusion matrix helps you to see how the model performed.It tells you the number of True positives,true negatives,false positives and false negatives.To see the confusion matrix,use:"
      ],
      "metadata": {
        "id": "OiU-nhT_f3JJ"
      }
    },
    {
      "cell_type": "code",
      "source": [
        "from sklearn.metrics import confusion_matrix\n",
        "confusion_matrix(y_test, y_predict)"
      ],
      "metadata": {
        "colab": {
          "base_uri": "https://localhost:8080/"
        },
        "id": "Amc2YiapgbDD",
        "outputId": "b372b89b-ac58-4654-d56f-d39eb06fb4ac"
      },
      "execution_count": null,
      "outputs": [
        {
          "output_type": "execute_result",
          "data": {
            "text/plain": [
              "array([[11,  0,  0],\n",
              "       [ 0, 12,  1],\n",
              "       [ 0,  0,  6]])"
            ]
          },
          "metadata": {},
          "execution_count": 13
        }
      ]
    },
    {
      "cell_type": "markdown",
      "source": [
        "# SUPPORT VECTOR CLASSIFIER\n",
        "\n",
        "Support Vector Machine or SVM is one of the most popular Supervised Learning algorithms, which is used for Classification as well as Regression problems.\n",
        "\n",
        "The goal of the SVM algorithm is to create the best line or decision boundary that can segregate n-dimensional space into classes so that we can easily put the new data point in the correct category in the future. This best decision boundary is called a hyperplane.\n",
        "\n",
        "SVM chooses the extreme points/vectors that help in creating the hyperplane. These extreme cases are called as support vectors, and hence algorithm is termed as Support Vector Machine. Consider the below diagram in which there are two different categories that are classified using a decision boundary or hyperplane:\n",
        "\n",
        "<img src=\"https://media.geeksforgeeks.org/wp-content/uploads/20201211185229/Capture.JPG\" srcset=\"https://media.geeksforgeeks.org/wp-content/uploads/20201211185229/Capture.JPG,\">\n",
        "\n",
        "* Import the SVC Model from sklearn\n",
        "* Training and Testing the model\n",
        "\n",
        "\n",
        "\n"
      ],
      "metadata": {
        "id": "XJbtLBMBPYP_"
      }
    },
    {
      "cell_type": "code",
      "source": [
        "from sklearn.svm import SVC\n",
        "svc = SVC()\n",
        "svc.fit(X_train,y_train)\n",
        "pred=svc.predict(X_test)\n",
        "pred"
      ],
      "metadata": {
        "colab": {
          "base_uri": "https://localhost:8080/"
        },
        "id": "-TKwgxnnS1ur",
        "outputId": "92fcadd7-8199-4aff-e6a3-f3eb02138d74"
      },
      "execution_count": null,
      "outputs": [
        {
          "output_type": "stream",
          "name": "stderr",
          "text": [
            "/usr/local/lib/python3.7/dist-packages/sklearn/utils/validation.py:993: DataConversionWarning: A column-vector y was passed when a 1d array was expected. Please change the shape of y to (n_samples, ), for example using ravel().\n",
            "  y = column_or_1d(y, warn=True)\n"
          ]
        },
        {
          "output_type": "execute_result",
          "data": {
            "text/plain": [
              "array([0, 1, 1, 0, 2, 1, 2, 0, 0, 2, 1, 0, 2, 1, 1, 0, 1, 1, 0, 0, 1, 1,\n",
              "       2, 0, 2, 1, 0, 0, 1, 2])"
            ]
          },
          "metadata": {},
          "execution_count": 14
        }
      ]
    },
    {
      "cell_type": "markdown",
      "source": [
        "### Know the accuracy score of the model"
      ],
      "metadata": {
        "id": "fQG7FVVDXNho"
      }
    },
    {
      "cell_type": "code",
      "source": [
        "accuracy_score(y_test,pred)"
      ],
      "metadata": {
        "colab": {
          "base_uri": "https://localhost:8080/"
        },
        "id": "i1f60AoTXUNv",
        "outputId": "e8c00e11-f3db-4382-f9e0-7274b7b82a17"
      },
      "execution_count": null,
      "outputs": [
        {
          "output_type": "execute_result",
          "data": {
            "text/plain": [
              "0.9666666666666667"
            ]
          },
          "metadata": {},
          "execution_count": 15
        }
      ]
    },
    {
      "cell_type": "markdown",
      "source": [
        "### Displayig the confusion matrix"
      ],
      "metadata": {
        "id": "tQvqS24fhF6x"
      }
    },
    {
      "cell_type": "code",
      "source": [
        "confusion_matrix(y_test,pred)"
      ],
      "metadata": {
        "colab": {
          "base_uri": "https://localhost:8080/"
        },
        "id": "QkJ9FB6vhKBL",
        "outputId": "ff532523-28d8-4efb-84d9-2e9f45d07112"
      },
      "execution_count": null,
      "outputs": [
        {
          "output_type": "execute_result",
          "data": {
            "text/plain": [
              "array([[11,  0,  0],\n",
              "       [ 0, 12,  1],\n",
              "       [ 0,  0,  6]])"
            ]
          },
          "metadata": {},
          "execution_count": 16
        }
      ]
    }
  ]
}