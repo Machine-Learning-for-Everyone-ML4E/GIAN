{
  "nbformat": 4,
  "nbformat_minor": 0,
  "metadata": {
    "colab": {
      "name": "GIAN: Adversarial Defence.ipynb",
      "provenance": [],
      "collapsed_sections": []
    },
    "kernelspec": {
      "name": "python3",
      "display_name": "Python 3"
    },
    "language_info": {
      "name": "python"
    },
    "widgets": {
      "application/vnd.jupyter.widget-state+json": {
        "160e22bb0fa347dd9ac85a6a3b170dde": {
          "model_module": "@jupyter-widgets/controls",
          "model_name": "HBoxModel",
          "model_module_version": "1.5.0",
          "state": {
            "_view_name": "HBoxView",
            "_dom_classes": [],
            "_model_name": "HBoxModel",
            "_view_module": "@jupyter-widgets/controls",
            "_model_module_version": "1.5.0",
            "_view_count": null,
            "_view_module_version": "1.5.0",
            "box_style": "",
            "layout": "IPY_MODEL_eff3db77987041abadbd27fd6315699c",
            "_model_module": "@jupyter-widgets/controls",
            "children": [
              "IPY_MODEL_4496a8966f3246ceaa7fb988a6ce6b90",
              "IPY_MODEL_5a3068e38dfd42809bd7edeea150792f",
              "IPY_MODEL_b5ab27ba9498424cace9c31b225090f4"
            ]
          }
        },
        "eff3db77987041abadbd27fd6315699c": {
          "model_module": "@jupyter-widgets/base",
          "model_name": "LayoutModel",
          "model_module_version": "1.2.0",
          "state": {
            "_view_name": "LayoutView",
            "grid_template_rows": null,
            "right": null,
            "justify_content": null,
            "_view_module": "@jupyter-widgets/base",
            "overflow": null,
            "_model_module_version": "1.2.0",
            "_view_count": null,
            "flex_flow": null,
            "width": null,
            "min_width": null,
            "border": null,
            "align_items": null,
            "bottom": null,
            "_model_module": "@jupyter-widgets/base",
            "top": null,
            "grid_column": null,
            "overflow_y": null,
            "overflow_x": null,
            "grid_auto_flow": null,
            "grid_area": null,
            "grid_template_columns": null,
            "flex": null,
            "_model_name": "LayoutModel",
            "justify_items": null,
            "grid_row": null,
            "max_height": null,
            "align_content": null,
            "visibility": null,
            "align_self": null,
            "height": null,
            "min_height": null,
            "padding": null,
            "grid_auto_rows": null,
            "grid_gap": null,
            "max_width": null,
            "order": null,
            "_view_module_version": "1.2.0",
            "grid_template_areas": null,
            "object_position": null,
            "object_fit": null,
            "grid_auto_columns": null,
            "margin": null,
            "display": null,
            "left": null
          }
        },
        "4496a8966f3246ceaa7fb988a6ce6b90": {
          "model_module": "@jupyter-widgets/controls",
          "model_name": "HTMLModel",
          "model_module_version": "1.5.0",
          "state": {
            "_view_name": "HTMLView",
            "style": "IPY_MODEL_8683eed7682f453283f1cd89dd435bdd",
            "_dom_classes": [],
            "description": "",
            "_model_name": "HTMLModel",
            "placeholder": "​",
            "_view_module": "@jupyter-widgets/controls",
            "_model_module_version": "1.5.0",
            "value": "creating adversarial samples: 100%",
            "_view_count": null,
            "_view_module_version": "1.5.0",
            "description_tooltip": null,
            "_model_module": "@jupyter-widgets/controls",
            "layout": "IPY_MODEL_debc09110b664a0bafa0931b470eacad"
          }
        },
        "5a3068e38dfd42809bd7edeea150792f": {
          "model_module": "@jupyter-widgets/controls",
          "model_name": "FloatProgressModel",
          "model_module_version": "1.5.0",
          "state": {
            "_view_name": "ProgressView",
            "style": "IPY_MODEL_9d423020a63a4198b5a1ecfce69800f7",
            "_dom_classes": [],
            "description": "",
            "_model_name": "FloatProgressModel",
            "bar_style": "success",
            "max": 100,
            "_view_module": "@jupyter-widgets/controls",
            "_model_module_version": "1.5.0",
            "value": 100,
            "_view_count": null,
            "_view_module_version": "1.5.0",
            "orientation": "horizontal",
            "min": 0,
            "description_tooltip": null,
            "_model_module": "@jupyter-widgets/controls",
            "layout": "IPY_MODEL_70a441f029864b4ba851e8fd6f96bb9b"
          }
        },
        "b5ab27ba9498424cace9c31b225090f4": {
          "model_module": "@jupyter-widgets/controls",
          "model_name": "HTMLModel",
          "model_module_version": "1.5.0",
          "state": {
            "_view_name": "HTMLView",
            "style": "IPY_MODEL_9b245b12bf784c1fbeea9255ae4b78a5",
            "_dom_classes": [],
            "description": "",
            "_model_name": "HTMLModel",
            "placeholder": "​",
            "_view_module": "@jupyter-widgets/controls",
            "_model_module_version": "1.5.0",
            "value": " 100/100 [02:44&lt;00:00,  1.49s/it]",
            "_view_count": null,
            "_view_module_version": "1.5.0",
            "description_tooltip": null,
            "_model_module": "@jupyter-widgets/controls",
            "layout": "IPY_MODEL_f5bda738ae064a56a2dcc65149bb0996"
          }
        },
        "8683eed7682f453283f1cd89dd435bdd": {
          "model_module": "@jupyter-widgets/controls",
          "model_name": "DescriptionStyleModel",
          "model_module_version": "1.5.0",
          "state": {
            "_view_name": "StyleView",
            "_model_name": "DescriptionStyleModel",
            "description_width": "",
            "_view_module": "@jupyter-widgets/base",
            "_model_module_version": "1.5.0",
            "_view_count": null,
            "_view_module_version": "1.2.0",
            "_model_module": "@jupyter-widgets/controls"
          }
        },
        "debc09110b664a0bafa0931b470eacad": {
          "model_module": "@jupyter-widgets/base",
          "model_name": "LayoutModel",
          "model_module_version": "1.2.0",
          "state": {
            "_view_name": "LayoutView",
            "grid_template_rows": null,
            "right": null,
            "justify_content": null,
            "_view_module": "@jupyter-widgets/base",
            "overflow": null,
            "_model_module_version": "1.2.0",
            "_view_count": null,
            "flex_flow": null,
            "width": null,
            "min_width": null,
            "border": null,
            "align_items": null,
            "bottom": null,
            "_model_module": "@jupyter-widgets/base",
            "top": null,
            "grid_column": null,
            "overflow_y": null,
            "overflow_x": null,
            "grid_auto_flow": null,
            "grid_area": null,
            "grid_template_columns": null,
            "flex": null,
            "_model_name": "LayoutModel",
            "justify_items": null,
            "grid_row": null,
            "max_height": null,
            "align_content": null,
            "visibility": null,
            "align_self": null,
            "height": null,
            "min_height": null,
            "padding": null,
            "grid_auto_rows": null,
            "grid_gap": null,
            "max_width": null,
            "order": null,
            "_view_module_version": "1.2.0",
            "grid_template_areas": null,
            "object_position": null,
            "object_fit": null,
            "grid_auto_columns": null,
            "margin": null,
            "display": null,
            "left": null
          }
        },
        "9d423020a63a4198b5a1ecfce69800f7": {
          "model_module": "@jupyter-widgets/controls",
          "model_name": "ProgressStyleModel",
          "model_module_version": "1.5.0",
          "state": {
            "_view_name": "StyleView",
            "_model_name": "ProgressStyleModel",
            "description_width": "",
            "_view_module": "@jupyter-widgets/base",
            "_model_module_version": "1.5.0",
            "_view_count": null,
            "_view_module_version": "1.2.0",
            "bar_color": null,
            "_model_module": "@jupyter-widgets/controls"
          }
        },
        "70a441f029864b4ba851e8fd6f96bb9b": {
          "model_module": "@jupyter-widgets/base",
          "model_name": "LayoutModel",
          "model_module_version": "1.2.0",
          "state": {
            "_view_name": "LayoutView",
            "grid_template_rows": null,
            "right": null,
            "justify_content": null,
            "_view_module": "@jupyter-widgets/base",
            "overflow": null,
            "_model_module_version": "1.2.0",
            "_view_count": null,
            "flex_flow": null,
            "width": null,
            "min_width": null,
            "border": null,
            "align_items": null,
            "bottom": null,
            "_model_module": "@jupyter-widgets/base",
            "top": null,
            "grid_column": null,
            "overflow_y": null,
            "overflow_x": null,
            "grid_auto_flow": null,
            "grid_area": null,
            "grid_template_columns": null,
            "flex": null,
            "_model_name": "LayoutModel",
            "justify_items": null,
            "grid_row": null,
            "max_height": null,
            "align_content": null,
            "visibility": null,
            "align_self": null,
            "height": null,
            "min_height": null,
            "padding": null,
            "grid_auto_rows": null,
            "grid_gap": null,
            "max_width": null,
            "order": null,
            "_view_module_version": "1.2.0",
            "grid_template_areas": null,
            "object_position": null,
            "object_fit": null,
            "grid_auto_columns": null,
            "margin": null,
            "display": null,
            "left": null
          }
        },
        "9b245b12bf784c1fbeea9255ae4b78a5": {
          "model_module": "@jupyter-widgets/controls",
          "model_name": "DescriptionStyleModel",
          "model_module_version": "1.5.0",
          "state": {
            "_view_name": "StyleView",
            "_model_name": "DescriptionStyleModel",
            "description_width": "",
            "_view_module": "@jupyter-widgets/base",
            "_model_module_version": "1.5.0",
            "_view_count": null,
            "_view_module_version": "1.2.0",
            "_model_module": "@jupyter-widgets/controls"
          }
        },
        "f5bda738ae064a56a2dcc65149bb0996": {
          "model_module": "@jupyter-widgets/base",
          "model_name": "LayoutModel",
          "model_module_version": "1.2.0",
          "state": {
            "_view_name": "LayoutView",
            "grid_template_rows": null,
            "right": null,
            "justify_content": null,
            "_view_module": "@jupyter-widgets/base",
            "overflow": null,
            "_model_module_version": "1.2.0",
            "_view_count": null,
            "flex_flow": null,
            "width": null,
            "min_width": null,
            "border": null,
            "align_items": null,
            "bottom": null,
            "_model_module": "@jupyter-widgets/base",
            "top": null,
            "grid_column": null,
            "overflow_y": null,
            "overflow_x": null,
            "grid_auto_flow": null,
            "grid_area": null,
            "grid_template_columns": null,
            "flex": null,
            "_model_name": "LayoutModel",
            "justify_items": null,
            "grid_row": null,
            "max_height": null,
            "align_content": null,
            "visibility": null,
            "align_self": null,
            "height": null,
            "min_height": null,
            "padding": null,
            "grid_auto_rows": null,
            "grid_gap": null,
            "max_width": null,
            "order": null,
            "_view_module_version": "1.2.0",
            "grid_template_areas": null,
            "object_position": null,
            "object_fit": null,
            "grid_auto_columns": null,
            "margin": null,
            "display": null,
            "left": null
          }
        }
      }
    },
    "accelerator": "GPU"
  },
  "cells": [
    {
      "cell_type": "markdown",
      "source": [
        "# Defending Against Adversarial Attacks:\n",
        "In our previous session on adversarial attacks we discussed a few white box attack strategies and demonstrated their use for attack a simple CNN based cat and dog classifier. We saw that when attacks like FGSM or C&W are performed the performance of the CNN model detoriates rapidly. Today we will discuss simple methods that can be used to make models more robust. Adversarial defence is a significantly challenging field and many methods are being proposed. Discussing all these methods are out of the scope of this notebook"
      ],
      "metadata": {
        "id": "rtSJtRU_YYOl"
      }
    },
    {
      "cell_type": "markdown",
      "source": [
        "# Set up Dataset"
      ],
      "metadata": {
        "id": "jkHBgj7iZNeP"
      }
    },
    {
      "cell_type": "code",
      "metadata": {
        "id": "RM2_EegFGphQ",
        "colab": {
          "base_uri": "https://localhost:8080/"
        },
        "outputId": "50a3f1e6-6645-48da-dcab-d2481e4ad06c"
      },
      "source": [
        "!pip install -q kaggle\n",
        "!gdown --id 1wObfz33pLg8oSVbz8kOMS7zepsFw71kE"
      ],
      "execution_count": 1,
      "outputs": [
        {
          "output_type": "stream",
          "name": "stdout",
          "text": [
            "Downloading...\n",
            "From: https://drive.google.com/uc?id=1wObfz33pLg8oSVbz8kOMS7zepsFw71kE\n",
            "To: /content/kaggle.json\n",
            "\r  0% 0.00/70.0 [00:00<?, ?B/s]\r100% 70.0/70.0 [00:00<00:00, 111kB/s]\n"
          ]
        }
      ]
    },
    {
      "cell_type": "code",
      "source": [
        "from google.colab import drive\n",
        "drive.mount(\"/content/gdrive/\")\n",
        "!cp \"/content/gdrive/MyDrive/func_files/utils.py\" \"/content/\""
      ],
      "metadata": {
        "colab": {
          "base_uri": "https://localhost:8080/"
        },
        "id": "5dxevcpp6jWa",
        "outputId": "1746d10f-b377-4e3a-e8a3-d8fee49f15e5"
      },
      "execution_count": 2,
      "outputs": [
        {
          "output_type": "stream",
          "name": "stdout",
          "text": [
            "Mounted at /content/gdrive/\n"
          ]
        }
      ]
    },
    {
      "cell_type": "code",
      "metadata": {
        "id": "wnUo1d74IYzr"
      },
      "source": [
        "from IPython.display import clear_output\n",
        "!mkdir ~/.kaggle/\n",
        "!cp kaggle.json ~/.kaggle/\n",
        "!chmod 600 ~/.kaggle/kaggle.json\n",
        "\n",
        "!kaggle datasets download -d tongpython/cat-and-dog\n",
        "!mkdir cat-and-dog\n",
        "!unzip cat-and-dog.zip -d cat-and-dog\n",
        "\n",
        "!kaggle datasets download -d chetankv/dogs-cats-images\n",
        "!mkdir test_data\n",
        "!unzip dogs-cats-images.zip -d test_data\n",
        "clear_output(wait=False)"
      ],
      "execution_count": 3,
      "outputs": []
    },
    {
      "cell_type": "code",
      "source": [
        "!pip install tensorflow==2.1.0\n",
        "!pip install numpy == 1.18.1\n",
        "!pip install h5py==2.10.0\n",
        "!pip install -q foolbox\n",
        "!pip install -q eagerpy\n",
        "clear_output(wait=False)"
      ],
      "metadata": {
        "id": "31dRSl0Gro-t"
      },
      "execution_count": 4,
      "outputs": []
    },
    {
      "cell_type": "code",
      "source": [
        "!gdown --id 1dGSgM7JFmquK5xdOJ4TuKxB2Idq3UusG"
      ],
      "metadata": {
        "id": "ENd13ab0G5Ey",
        "colab": {
          "base_uri": "https://localhost:8080/"
        },
        "outputId": "be0b2aa4-1af9-4247-8229-957ee3dc4841"
      },
      "execution_count": 5,
      "outputs": [
        {
          "output_type": "stream",
          "name": "stdout",
          "text": [
            "Downloading...\n",
            "From: https://drive.google.com/uc?id=1dGSgM7JFmquK5xdOJ4TuKxB2Idq3UusG\n",
            "To: /content/model.CNN.hdf5\n",
            "\r  0% 0.00/2.58M [00:00<?, ?B/s]\r100% 2.58M/2.58M [00:00<00:00, 191MB/s]\n"
          ]
        }
      ]
    },
    {
      "cell_type": "markdown",
      "source": [
        "# Import Libraries"
      ],
      "metadata": {
        "id": "Cf9L2eCOZPsV"
      }
    },
    {
      "cell_type": "code",
      "metadata": {
        "id": "u0ejdFP2-_Oh"
      },
      "source": [
        "import eagerpy as ep\n",
        "import foolbox\n",
        "from foolbox import TensorFlowModel\n",
        "from foolbox.attacks import FGSM\n",
        "from foolbox.criteria import Misclassification\n",
        "from PIL import Image\n",
        "\n",
        "import glob\n",
        "import os\n",
        "import cv2\n",
        "import numpy as np\n",
        "import tensorflow as tf\n",
        "import matplotlib.pyplot as plt\n",
        "import tensorflow.keras.layers as L\n",
        "import tensorflow.keras.backend as K\n",
        "from tensorflow.keras.models import load_model\n",
        "from tqdm.notebook import tqdm\n",
        "from tensorflow.keras.preprocessing.image import ImageDataGenerator\n",
        "from functools import partial\n",
        "from utils import loss_plt\n",
        "IMG_SIZE = 256"
      ],
      "execution_count": 11,
      "outputs": []
    },
    {
      "cell_type": "markdown",
      "source": [
        "# Perform attack on previously trained CNN\n",
        "In the previous cat and dog classificiation notebooks we trained a shallow CNN network. For this notebook the same CNN is used. As a recap we show the detoriation in performance of the CNN in question when FGSM attack is performed"
      ],
      "metadata": {
        "id": "PBczGJ_VZSy5"
      }
    },
    {
      "cell_type": "code",
      "source": [
        "images = []\n",
        "labels = []\n",
        "for f in glob.glob(os.path.join(\"/content/test_data/dataset/test_set/cats/\",\"*.jpg\"))[:10]:\n",
        "  images.append(np.asarray(Image.open(f).resize((IMG_SIZE,IMG_SIZE)))/255)\n",
        "  labels.append(0)\n",
        "for f in glob.glob(os.path.join(\"/content/test_data/dataset/test_set/dogs/\",\"*.jpg\"))[:10]:\n",
        "  images.append(np.asarray(Image.open(f).resize((IMG_SIZE,IMG_SIZE)))/255)\n",
        "  labels.append(1)  \n",
        "images = tf.constant(np.stack(images,axis=0))\n",
        "labels = tf.constant(np.stack(labels,axis=0))"
      ],
      "metadata": {
        "id": "XAWVTX8cHDC8"
      },
      "execution_count": 7,
      "outputs": []
    },
    {
      "cell_type": "code",
      "source": [
        "model = load_model(\"model.CNN.hdf5\")\n",
        "print(model.input_shape)\n",
        "model.compile(loss='binary_crossentropy',\n",
        "             optimizer=tf.keras.optimizers.Adam(learning_rate=1e-3),\n",
        "             metrics=['accuracy'])\n",
        "fmodel = TensorFlowModel(model, bounds=(0, 255))"
      ],
      "metadata": {
        "id": "XBKcavdbKMMm",
        "colab": {
          "base_uri": "https://localhost:8080/"
        },
        "outputId": "d4b83f9c-5c95-4830-989c-226dc0aa625e"
      },
      "execution_count": 8,
      "outputs": [
        {
          "output_type": "stream",
          "name": "stdout",
          "text": [
            "(None, 256, 256, 3)\n",
            "WARNING:tensorflow:From /usr/local/lib/python3.7/dist-packages/foolbox/models/tensorflow.py:13: is_gpu_available (from tensorflow.python.framework.test_util) is deprecated and will be removed in a future version.\n",
            "Instructions for updating:\n",
            "Use `tf.config.list_physical_devices('GPU')` instead.\n"
          ]
        }
      ]
    },
    {
      "cell_type": "code",
      "source": [
        "print(\"Initial Model Accuracy:\",foolbox.utils.accuracy(fmodel, images, labels))"
      ],
      "metadata": {
        "colab": {
          "base_uri": "https://localhost:8080/"
        },
        "id": "OnZRz2qiFXc1",
        "outputId": "ab61d7d0-4a0a-491d-bce0-89db3da8e73e"
      },
      "execution_count": 9,
      "outputs": [
        {
          "output_type": "stream",
          "name": "stdout",
          "text": [
            "Initial Model Accuracy: 0.8500000238418579\n"
          ]
        }
      ]
    },
    {
      "cell_type": "code",
      "source": [
        "attack = foolbox.attacks.FGSM()\n",
        "epsilon = np.linspace(0.0, 0.01, num=20)\n",
        "raw, clipped, is_adv = attack(fmodel , images, Misclassification(labels), epsilons=epsilon)"
      ],
      "metadata": {
        "id": "j25382HpFYwC"
      },
      "execution_count": 10,
      "outputs": []
    },
    {
      "cell_type": "code",
      "source": [
        "epsilons, accuracy = [],[]\n",
        "for eps, advs_ in zip(np.linspace(0.0, 0.01, num=20), clipped):\n",
        "  acc2 = foolbox.utils.accuracy(fmodel, advs_, labels)\n",
        "  epsilons.append(eps)\n",
        "  accuracy.append(acc2)\n",
        "  if acc2 == 0:\n",
        "      break\n",
        "plt.figure()\n",
        "plt.plot(epsilons,accuracy)\n",
        "plt.grid()\n",
        "plt.xlim(0,0.01)\n",
        "plt.ylim(0,1)\n",
        "plt.xlabel(\"<=Epsilon\")\n",
        "plt.ylabel(\"Accuracy\")\n",
        "plt.show()"
      ],
      "metadata": {
        "id": "GZ-jQesoCjHj",
        "colab": {
          "base_uri": "https://localhost:8080/",
          "height": 283
        },
        "outputId": "89e299fc-8591-49cd-ccfa-a719162e0166"
      },
      "execution_count": 11,
      "outputs": [
        {
          "output_type": "display_data",
          "data": {
            "image/png": "[encoded data removed]",
            "text/plain": [
              "<Figure size 432x288 with 1 Axes>"
            ]
          },
          "metadata": {
            "needs_background": "light"
          }
        }
      ]
    },
    {
      "cell_type": "markdown",
      "source": [
        "# Ensembling Defence\n",
        "When a whitebox attack is made, it is done so by targeting a trained model. A simple strategy for mitigation of adversarial attacks can be ensembling of networks [(Strauss et al. 2017)](https://arxiv.org/abs/1709.03423). When an attack is now made by targeting models that are included in the ensemble, owing to the diversity of networks in the ensemble, the impact is expected to be lesser"
      ],
      "metadata": {
        "id": "sbC5VpHRuzk8"
      }
    },
    {
      "cell_type": "code",
      "source": [
        "len_train_set = len(os.listdir('/content/cat-and-dog/training_set/training_set/dogs/'))+len(os.listdir('/content/cat-and-dog/training_set/training_set/cats/'))\n",
        "len_test_set = len(os.listdir('/content/cat-and-dog/test_set/test_set/dogs/'))+len(os.listdir('/content/cat-and-dog/test_set/test_set/cats/'))"
      ],
      "metadata": {
        "id": "D7RfCJcPzLU-"
      },
      "execution_count": 14,
      "outputs": []
    },
    {
      "cell_type": "code",
      "source": [
        "def buildModel():\n",
        "    # Initialising the CNN\n",
        "  classifier = tf.keras.models.Sequential()\n",
        "\n",
        "  # Step 1 - Convolution\n",
        "  classifier.add(L.Convolution2D(32, 3, 3, input_shape = (IMG_SIZE, IMG_SIZE, 3), activation = 'relu'))\n",
        "\n",
        "  # Step 2 - Pooling\n",
        "  classifier.add(L.MaxPooling2D(pool_size = (2, 2)))\n",
        "\n",
        "  # Adding a second convolutional block\n",
        "  classifier.add(L.Convolution2D(32, 3, 3, activation = 'relu'))\n",
        "  classifier.add(L.MaxPooling2D(pool_size = (2, 2)))\n",
        "\n",
        "  # Step 3 - Flattening\n",
        "  classifier.add(L.Flatten())\n",
        "\n",
        "  # Step 4 - Full connection\n",
        "  classifier.add(L.Dense(128, activation = 'relu'))\n",
        "  classifier.add(L.Dense(2, activation = 'softmax'))\n",
        "\n",
        "  # Compiling the CNN\n",
        "  classifier.compile(optimizer = 'adam', loss = 'categorical_crossentropy', metrics = ['accuracy'])\n",
        "  return classifier"
      ],
      "metadata": {
        "id": "ZNOZR-JsuzNj"
      },
      "execution_count": 13,
      "outputs": []
    },
    {
      "cell_type": "code",
      "source": [
        "NUM_MODELS = 3\n",
        "models = []"
      ],
      "metadata": {
        "id": "zoWRtRa6wjAJ"
      },
      "execution_count": 16,
      "outputs": []
    },
    {
      "cell_type": "code",
      "source": [
        "# train an ensemble with 3 models with same architecture\n",
        "for i in range(NUM_MODELS):\n",
        "  K.clear_session()\n",
        "  classifier = buildModel()\n",
        "  train_datagen = ImageDataGenerator(rescale = 1./255,\n",
        "                                    shear_range = 0.2,\n",
        "                                    zoom_range = 0.2,\n",
        "                                    horizontal_flip = True)\n",
        "\n",
        "  test_datagen = ImageDataGenerator(rescale = 1./255)\n",
        "  training_set = train_datagen.flow_from_directory('/content/cat-and-dog/training_set/training_set',\n",
        "                                                  target_size = (IMG_SIZE, IMG_SIZE),\n",
        "                                                  batch_size = 32,\n",
        "                                                  class_mode = 'categorical')\n",
        "\n",
        "  test_set = test_datagen.flow_from_directory('/content/cat-and-dog/test_set/test_set',\n",
        "                                              target_size = (IMG_SIZE, IMG_SIZE),\n",
        "                                              batch_size = 32,\n",
        "                                              class_mode = 'categorical')\n",
        "  chckpt_path = 'model.adCNN.hdf5'\n",
        "  # loss_plot = loss_plt()\n",
        "\n",
        "  chckpt  = tf.keras.callbacks.ModelCheckpoint(chckpt_path, save_best_only=True,monitor = 'val_accuracy',mode='max')\n",
        "  classifier.fit_generator(training_set,\n",
        "                          steps_per_epoch = len_train_set//32,\n",
        "                          epochs = 10,\n",
        "                          validation_data = test_set,\n",
        "                          validation_steps = len_test_set//32,\n",
        "                          callbacks=[chckpt]\n",
        "                          )\n",
        "  classifier.load_weights(chckpt_path)\n",
        "  models.append(classifier)\n",
        "  clear_output(wait=False)"
      ],
      "metadata": {
        "id": "i9JUoUNuwZfr"
      },
      "execution_count": 17,
      "outputs": []
    },
    {
      "cell_type": "code",
      "source": [
        "def predict(test_data,models):\n",
        "  pred = np.zeros((test_data.shape[0],2))\n",
        "  for model in models:\n",
        "    pred += model.predict(test_data)\n",
        "  return np.argmax(pred/len(models),axis=1)"
      ],
      "metadata": {
        "id": "tsMIvl_qw6G6"
      },
      "execution_count": 18,
      "outputs": []
    },
    {
      "cell_type": "code",
      "source": [
        "images = []\n",
        "labels = []\n",
        "for f in glob.glob(os.path.join(\"/content/test_data/dataset/test_set/cats/\",\"*.jpg\"))[:10]:\n",
        "  images.append(np.asarray(Image.open(f).resize((IMG_SIZE,IMG_SIZE)))/255)\n",
        "  labels.append(0)\n",
        "for f in glob.glob(os.path.join(\"/content/test_data/dataset/test_set/dogs/\",\"*.jpg\"))[:10]:\n",
        "  images.append(np.asarray(Image.open(f).resize((IMG_SIZE,IMG_SIZE)))/255)\n",
        "  labels.append(1)  \n",
        "images = tf.constant(np.stack(images,axis=0))\n",
        "labels = tf.constant(np.stack(labels,axis=0))"
      ],
      "metadata": {
        "id": "zktwlFOzyFL9"
      },
      "execution_count": 19,
      "outputs": []
    },
    {
      "cell_type": "code",
      "source": [
        "model = load_model(\"model.CNN.hdf5\")\n",
        "model.compile(loss='binary_crossentropy',\n",
        "             optimizer=tf.keras.optimizers.Adam(learning_rate=1e-3),\n",
        "             metrics=['accuracy'])\n",
        "fmodel = TensorFlowModel(model, bounds=(0, 255))"
      ],
      "metadata": {
        "id": "Nemo9ApfyFMY"
      },
      "execution_count": 20,
      "outputs": []
    },
    {
      "cell_type": "code",
      "source": [
        "print(\"Initial Ensemble Model Accuracy:\",np.sum(predict(images,models)==labels)/labels.shape[0])\n",
        "print(\"Initial CNN Model Accuracy:\",foolbox.utils.accuracy(fmodel, images, labels))"
      ],
      "metadata": {
        "colab": {
          "base_uri": "https://localhost:8080/"
        },
        "outputId": "a9e84065-031e-466a-d503-62f97105575f",
        "id": "E_1S9-JwyFMZ"
      },
      "execution_count": 22,
      "outputs": [
        {
          "output_type": "stream",
          "name": "stdout",
          "text": [
            "Initial Ensemble Model Accuracy: 0.7\n",
            "Initial CNN Model Accuracy: 0.75\n"
          ]
        }
      ]
    },
    {
      "cell_type": "code",
      "source": [
        "attack = foolbox.attacks.FGSM()\n",
        "epsilon = np.linspace(0.0, 0.01, num=20)\n",
        "raw, clipped, is_adv = attack(fmodel , images, Misclassification(labels), epsilons=epsilon)\n",
        "\n",
        "attack = foolbox.attacks.FGSM()\n",
        "epsilon = np.linspace(0.0, 0.01, num=20)\n",
        "fmodelad = TensorFlowModel(models[0], bounds=(0, 255))\n",
        "rawad, clippedad, is_advad = attack(fmodelad , images, Misclassification(labels), epsilons=epsilon)"
      ],
      "metadata": {
        "colab": {
          "base_uri": "https://localhost:8080/"
        },
        "id": "RyGerAXzyFMa",
        "outputId": "ac06d0ad-47d1-4b6f-b52e-d55d1e83dc51"
      },
      "execution_count": 23,
      "outputs": [
        {
          "output_type": "stream",
          "name": "stdout",
          "text": [
            "WARNING:tensorflow:Layer conv2d is casting an input tensor from dtype float64 to the layer's dtype of float32, which is new behavior in TensorFlow 2.  The layer has dtype float32 because it's dtype defaults to floatx.\n",
            "\n",
            "If you intended to run this layer in float32, you can safely ignore this warning. If in doubt, this warning is likely only an issue if you are porting a TensorFlow 1.X model to TensorFlow 2.\n",
            "\n",
            "To change all layers to have dtype float64 by default, call `tf.keras.backend.set_floatx('float64')`. To change just this layer, pass dtype='float64' to the layer constructor. If you are the author of this layer, you can disable autocasting by passing autocast=False to the base Layer constructor.\n",
            "\n"
          ]
        }
      ]
    },
    {
      "cell_type": "code",
      "source": [
        "epsilons, accuracy = [],[]\n",
        "epsilonsad, accuracyad = [],[]\n",
        "\n",
        "for eps, advs_ in zip(np.linspace(0.0, 0.01, num=20), clipped):\n",
        "  acc2 = foolbox.utils.accuracy(fmodel, advs_, labels)\n",
        "  epsilons.append(eps)\n",
        "  accuracy.append(acc2)\n",
        "  if acc2 == 0:\n",
        "      break\n",
        "for eps, advs_ in zip(np.linspace(0.0, 0.01, num=20), clipped):\n",
        "  acc2 = np.sum(predict(advs_,models)==labels)/labels.shape[0]\n",
        "  # acc2 = foolbox.utils.accuracy(fmodelad, advs_, labels)\n",
        "  epsilonsad.append(eps)\n",
        "  accuracyad.append(acc2)\n",
        "  if acc2 == 0:\n",
        "      break\n",
        "\n",
        "plt.figure(figsize=(10,6))\n",
        "plt.plot(epsilons,accuracy,label='cnn')\n",
        "plt.plot(epsilonsad,accuracyad,color='red',label='ensemble')\n",
        "\n",
        "plt.grid()\n",
        "plt.xlim(0,0.01)\n",
        "plt.ylim(0,1)\n",
        "plt.xlabel(\"<=Epsilon\")\n",
        "plt.ylabel(\"Accuracy\")\n",
        "plt.legend()\n",
        "plt.show()"
      ],
      "metadata": {
        "colab": {
          "base_uri": "https://localhost:8080/",
          "height": 392
        },
        "outputId": "0cc5f005-08c5-41fb-d1cf-10c916b3b4de",
        "id": "PjBOPBBLyFMb"
      },
      "execution_count": 26,
      "outputs": [
        {
          "output_type": "display_data",
          "data": {
            "image/png": "[encoded data removed]",
            "text/plain": [
              "<Figure size 720x432 with 1 Axes>"
            ]
          },
          "metadata": {
            "needs_background": "light"
          }
        }
      ]
    },
    {
      "cell_type": "markdown",
      "source": [
        "This attack has been made by calculating the gradients for only one of the models of the ensemble. The more appropriate way would be taking average of the gradients ∇<sub>x</sub>J(θ<sub>i</sub>\n",
        ", x, y) from all classiers in the ensemble and then modifying the sample."
      ],
      "metadata": {
        "id": "3UBATEvB6xwx"
      }
    },
    {
      "cell_type": "markdown",
      "source": [
        "# Including Adversarial Samples in Training\n",
        "Another simple strategy to mitigate a certain type of attack is including adversarial samples generated with this attack in the training set and retraining the model. This method however has its disadvantages. If new attacks are made on the retrained model, it may not be able to mitigate them"
      ],
      "metadata": {
        "id": "CMyI14yVGLSA"
      }
    },
    {
      "cell_type": "code",
      "source": [
        "!cp -r \"/content/cat-and-dog\" \"/content/adverserial/\""
      ],
      "metadata": {
        "id": "3Yi9B29WJJVT"
      },
      "execution_count": 8,
      "outputs": []
    },
    {
      "cell_type": "code",
      "source": [
        "def makeAdversarialDataset(batch_size = 8, frac=0.1):\n",
        "  all_files = glob.glob(os.path.join(\"/content/adverserial/training_set/training_set/\",\"*/*.jpg\"),recursive=True)\n",
        "  files = np.random.choice(all_files,batch_size*(int(len(all_files)*0.1)//batch_size),replace=False).reshape((-1,batch_size))\n",
        "  mapper = lambda x: 0 if x=='cats' else 1\n",
        "\n",
        "  model = load_model(\"model.CNN.hdf5\")\n",
        "  model.compile(loss='binary_crossentropy',\n",
        "              optimizer=tf.keras.optimizers.Adam(learning_rate=1e-3),\n",
        "              metrics=['accuracy'])\n",
        "  fmodel = TensorFlowModel(model, bounds=(0, 255))\n",
        "  counter_dogs = 0\n",
        "  counter_cats = 0\n",
        "\n",
        "  print(\"Files: \",files.shape)\n",
        "  for batch in tqdm(files,\"creating adversarial samples: \"):\n",
        "    images = []\n",
        "    labels = []\n",
        "    for img in batch:\n",
        "      images.append(np.asarray(Image.open(img).resize((IMG_SIZE,IMG_SIZE)))/255)\n",
        "      labels.append(mapper(img.split(\"/\")[-2]))\n",
        "    images = tf.constant(np.stack(images,axis=0))\n",
        "    labels = tf.constant(np.stack(labels,axis=0))\n",
        "    \n",
        "    attack = foolbox.attacks.FGSM()\n",
        "    epsilon = np.linspace(0.0, 0.01, num=20)\n",
        "    raw, clipped, is_adv = attack(fmodel , images, Misclassification(labels), epsilons=epsilon)\n",
        "    for eps in clipped:\n",
        "      for im,label in zip(eps,labels):\n",
        "        temp = Image.fromarray((255*im.numpy()).astype(np.uint8))\n",
        "        if label==0:\n",
        "          path = \"/content/adverserial/training_set/training_set/cats/\"+f'img_cat_{counter_cats}.jpg'\n",
        "          counter_cats+=1\n",
        "        else:\n",
        "          path = \"/content/adverserial/training_set/training_set/dogs/\"+f'img_dog_{counter_dogs}.jpg'\n",
        "          counter_dogs+=1\n",
        "        temp.save(path)\n",
        "  print(\"\\nTotal Images Created: Cats:\",counter_cats,\"Dogs:\",counter_dogs)"
      ],
      "metadata": {
        "id": "AgcLyzhC_5i7"
      },
      "execution_count": 9,
      "outputs": []
    },
    {
      "cell_type": "code",
      "source": [
        "# adversarial samples are added to the train set\n",
        "makeAdversarialDataset()"
      ],
      "metadata": {
        "colab": {
          "base_uri": "https://localhost:8080/",
          "height": 173,
          "referenced_widgets": [
            "160e22bb0fa347dd9ac85a6a3b170dde",
            "eff3db77987041abadbd27fd6315699c",
            "4496a8966f3246ceaa7fb988a6ce6b90",
            "5a3068e38dfd42809bd7edeea150792f",
            "b5ab27ba9498424cace9c31b225090f4",
            "8683eed7682f453283f1cd89dd435bdd",
            "debc09110b664a0bafa0931b470eacad",
            "9d423020a63a4198b5a1ecfce69800f7",
            "70a441f029864b4ba851e8fd6f96bb9b",
            "9b245b12bf784c1fbeea9255ae4b78a5",
            "f5bda738ae064a56a2dcc65149bb0996"
          ]
        },
        "id": "x1QH2PRSGQg5",
        "outputId": "f800147c-cb78-42dc-db2f-95d28d468dc7"
      },
      "execution_count": 13,
      "outputs": [
        {
          "output_type": "stream",
          "name": "stdout",
          "text": [
            "WARNING:tensorflow:From /usr/local/lib/python3.7/dist-packages/foolbox/models/tensorflow.py:13: is_gpu_available (from tensorflow.python.framework.test_util) is deprecated and will be removed in a future version.\n",
            "Instructions for updating:\n",
            "Use `tf.config.list_physical_devices('GPU')` instead.\n",
            "Files:  (100, 8)\n"
          ]
        },
        {
          "output_type": "display_data",
          "data": {
            "application/vnd.jupyter.widget-view+json": {
              "model_id": "160e22bb0fa347dd9ac85a6a3b170dde",
              "version_minor": 0,
              "version_major": 2
            },
            "text/plain": [
              "creating adversarial samples:   0%|          | 0/100 [00:00<?, ?it/s]"
            ]
          },
          "metadata": {}
        },
        {
          "output_type": "stream",
          "name": "stdout",
          "text": [
            "\n",
            "Total Images Created: Cats: 8100 Dogs: 7900\n"
          ]
        }
      ]
    },
    {
      "cell_type": "code",
      "source": [
        "len_train_set = len(os.listdir('/content/adverserial/training_set/training_set/dogs/'))+len(os.listdir('/content/adverserial/training_set/training_set/cats/'))\n",
        "len_test_set = len(os.listdir('/content/adverserial/test_set/test_set/dogs/'))+len(os.listdir('/content/adverserial/test_set/test_set/cats/'))"
      ],
      "metadata": {
        "id": "3_6b7e6hNeN2"
      },
      "execution_count": 14,
      "outputs": []
    },
    {
      "cell_type": "code",
      "metadata": {
        "outputId": "18941bd2-4867-4dbe-f0b1-570cd0483fe4",
        "colab": {
          "base_uri": "https://localhost:8080/",
          "height": 421
        },
        "id": "9PdHXpOhLgD0"
      },
      "source": [
        "def buildModel():\n",
        "  # Initialising the CNN\n",
        "  classifier = tf.keras.models.Sequential()\n",
        "\n",
        "  # Step 1 - Convolution\n",
        "  classifier.add(L.Convolution2D(32, 3, 3, input_shape = (IMG_SIZE, IMG_SIZE, 3), activation = 'relu'))\n",
        "\n",
        "  # Step 2 - Pooling\n",
        "  classifier.add(L.MaxPooling2D(pool_size = (2, 2)))\n",
        "\n",
        "  # Adding a second convolutional block\n",
        "  classifier.add(L.Convolution2D(32, 3, 3, activation = 'relu'))\n",
        "  classifier.add(L.MaxPooling2D(pool_size = (2, 2)))\n",
        "\n",
        "  # Step 3 - Flattening\n",
        "  classifier.add(L.Flatten())\n",
        "\n",
        "  # Step 4 - Full connection\n",
        "  classifier.add(L.Dense(128, activation = 'relu'))\n",
        "  classifier.add(L.Dense(2, activation = 'softmax'))\n",
        "\n",
        "  # Compiling the CNN\n",
        "  classifier.compile(optimizer = 'adam', loss = 'binary_crossentropy', metrics = ['accuracy'])\n",
        "  return classifier\n",
        "\n",
        "classifier = buildModel()\n",
        "\n",
        "# Part 2 - Fitting the CNN to the images\n",
        "\n",
        "train_datagen = ImageDataGenerator(rescale = 1./255,\n",
        "                                   shear_range = 0.2,\n",
        "                                   zoom_range = 0.2,\n",
        "                                   horizontal_flip = True)\n",
        "\n",
        "test_datagen = ImageDataGenerator(rescale = 1./255)\n",
        "training_set = train_datagen.flow_from_directory('/content/adverserial/training_set/training_set',\n",
        "                                                 target_size = (IMG_SIZE, IMG_SIZE),\n",
        "                                                 batch_size = 32,\n",
        "                                                 class_mode = 'categorical')\n",
        "\n",
        "test_set = test_datagen.flow_from_directory('/content/adverserial/test_set/test_set',\n",
        "                                            target_size = (IMG_SIZE, IMG_SIZE),\n",
        "                                            batch_size = 32,\n",
        "                                            class_mode = 'categorical')\n",
        "chckpt_path = 'model.adCNN.hdf5'\n",
        "loss_plot = loss_plt()\n",
        "\n",
        "chckpt  = tf.keras.callbacks.ModelCheckpoint(chckpt_path, save_best_only=True,monitor = 'val_accuracy',mode='max')\n",
        "classifier.fit_generator(training_set,\n",
        "                         steps_per_epoch = len_train_set//32,\n",
        "                         epochs = 10,\n",
        "                         validation_data = test_set,\n",
        "                         validation_steps = len_test_set//32,\n",
        "                         callbacks=[chckpt, loss_plot]\n",
        "                         )\n",
        "classifier.load_weights(chckpt_path)"
      ],
      "execution_count": 15,
      "outputs": [
        {
          "output_type": "display_data",
          "data": {
            "image/png": "[encoded data removed]",
            "text/plain": [
              "<Figure size 720x360 with 2 Axes>"
            ]
          },
          "metadata": {
            "needs_background": "light"
          }
        },
        {
          "output_type": "stream",
          "name": "stdout",
          "text": [
            "epoch 10/50 loss: 0.198 accuracy: 0.9261 val_loss: 0.641 val_accuracy:0.7312\n",
            "\b\b\b\b\b\b\b\b\b\b\b\b\b\b\b\b\b\b\b\b\b\b\b\b\b\b\b\b\b\b\b\b\b\b\b\b\b\b\b\b\b\b\b\b\b\b\b\b\b\b\b\b\b\b\b\b\b\b\b\b\b\b\b\b\b\b\b\b\b\b\b\b\b\b\b\b\b\b\b\b\b\b\b\b\r750/750 [==============================] - 366s 489ms/step - loss: 0.1976 - accuracy: 0.9261 - val_loss: 0.6411 - val_accuracy: 0.7312\n",
            "[INFO] Best Validation Accuracy:  0.7534722\n"
          ]
        }
      ]
    },
    {
      "cell_type": "code",
      "source": [
        "images = []\n",
        "labels = []\n",
        "for f in glob.glob(os.path.join(\"/content/test_data/dataset/test_set/cats/\",\"*.jpg\"))[:10]:\n",
        "  images.append(np.asarray(Image.open(f).resize((IMG_SIZE,IMG_SIZE)))/255)\n",
        "  labels.append(0)\n",
        "for f in glob.glob(os.path.join(\"/content/test_data/dataset/test_set/dogs/\",\"*.jpg\"))[:10]:\n",
        "  images.append(np.asarray(Image.open(f).resize((IMG_SIZE,IMG_SIZE)))/255)\n",
        "  labels.append(1)  \n",
        "images = tf.constant(np.stack(images,axis=0))\n",
        "labels = tf.constant(np.stack(labels,axis=0))"
      ],
      "metadata": {
        "id": "ukM5EFWlMBrC"
      },
      "execution_count": 16,
      "outputs": []
    },
    {
      "cell_type": "code",
      "source": [
        "model = load_model(\"model.CNN.hdf5\")\n",
        "model.compile(loss='binary_crossentropy',\n",
        "             optimizer=tf.keras.optimizers.Adam(learning_rate=1e-3),\n",
        "             metrics=['accuracy'])\n",
        "fmodel = TensorFlowModel(model, bounds=(0, 255))\n",
        "fmodelad = TensorFlowModel(classifier, bounds=(0, 255))"
      ],
      "metadata": {
        "id": "HuT1uAbfMBrC"
      },
      "execution_count": 79,
      "outputs": []
    },
    {
      "cell_type": "code",
      "source": [
        "print(\"Initial CNN Model Accuracy:\",foolbox.utils.accuracy(fmodel, images, labels))\n",
        "print(\"Initial Adv CNN Model Accuracy:\",foolbox.utils.accuracy(fmodelad, images, labels))"
      ],
      "metadata": {
        "colab": {
          "base_uri": "https://localhost:8080/"
        },
        "outputId": "e62cea9b-9fef-40de-bf25-1108ebaee487",
        "id": "le_SMEI1MBrC"
      },
      "execution_count": 80,
      "outputs": [
        {
          "output_type": "stream",
          "name": "stdout",
          "text": [
            "Initial CNN Model Accuracy: 0.8500000238418579\n",
            "Initial Adv CNN Model Accuracy: 0.699999988079071\n"
          ]
        }
      ]
    },
    {
      "cell_type": "markdown",
      "source": [
        "Now we perform an attack on the retrained model by targeting the original model. As seen below, the retrained model is impervious to attacks performed on the original model"
      ],
      "metadata": {
        "id": "u1fFAQc671Ke"
      }
    },
    {
      "cell_type": "code",
      "source": [
        "attack = foolbox.attacks.FGSM()\n",
        "epsilon = np.linspace(0.0, 0.01, num=20)\n",
        "raw, clipped, is_adv = attack(fmodel , images, Misclassification(labels), epsilons=epsilon)"
      ],
      "metadata": {
        "id": "a1LThVLBMBrD"
      },
      "execution_count": 81,
      "outputs": []
    },
    {
      "cell_type": "code",
      "source": [
        "epsilons, accuracy = [],[]\n",
        "epsilonsad, accuracyad = [],[]\n",
        "\n",
        "for eps, advs_ in zip(np.linspace(0.0, 0.01, num=20), clipped):\n",
        "  acc2 = foolbox.utils.accuracy(fmodel, advs_, labels)\n",
        "  epsilons.append(eps)\n",
        "  accuracy.append(acc2)\n",
        "  if acc2 == 0:\n",
        "      break\n",
        "for eps, advs_ in zip(np.linspace(0.0, 0.01, num=20), clipped):\n",
        "  acc2 = foolbox.utils.accuracy(fmodelad, advs_, labels)\n",
        "  # acc2 = foolbox.utils.accuracy(fmodelad, advs_, labels)\n",
        "  epsilonsad.append(eps)\n",
        "  accuracyad.append(acc2)\n",
        "  if acc2 == 0:\n",
        "      break\n",
        "\n",
        "plt.figure(figsize=(10,6))\n",
        "plt.plot(epsilons,accuracy,label='cnn')\n",
        "plt.plot(epsilonsad,accuracyad,color='red',label='Adversarial CNN')\n",
        "\n",
        "plt.grid()\n",
        "plt.xlim(0,0.01)\n",
        "plt.ylim(0,1)\n",
        "plt.xlabel(\"<=Epsilon\")\n",
        "plt.ylabel(\"Accuracy\")\n",
        "plt.legend()\n",
        "plt.show()"
      ],
      "metadata": {
        "colab": {
          "base_uri": "https://localhost:8080/",
          "height": 392
        },
        "outputId": "1b9dc749-d2f8-4c19-b767-15a08bb80919",
        "id": "REFVla-WMBrD"
      },
      "execution_count": 82,
      "outputs": [
        {
          "output_type": "display_data",
          "data": {
            "image/png": "[encoded data removed]",
            "text/plain": [
              "<Figure size 720x432 with 1 Axes>"
            ]
          },
          "metadata": {
            "needs_background": "light"
          }
        }
      ]
    },
    {
      "cell_type": "markdown",
      "source": [
        "But what happens if the attack is performed on the retrained model itself. As seen below the accuracy still drops. The problem here is that the retrained model and the target model are separate entities. "
      ],
      "metadata": {
        "id": "C6hRtUl58BRM"
      }
    },
    {
      "cell_type": "code",
      "source": [
        "attack = foolbox.attacks.FGSM()\n",
        "epsilon = np.linspace(0.0, 0.01, num=20)\n",
        "rawad, clippedad, is_advad = attack(fmodelad , images, Misclassification(labels), epsilons=epsilon)"
      ],
      "metadata": {
        "id": "ppUrmwsp7y0q"
      },
      "execution_count": null,
      "outputs": []
    },
    {
      "cell_type": "code",
      "source": [
        "epsilons, accuracy = [],[]\n",
        "epsilonsad, accuracyad = [],[]\n",
        "\n",
        "for eps, advs_ in zip(np.linspace(0.0, 0.01, num=20), clipped):\n",
        "  acc2 = foolbox.utils.accuracy(fmodel, advs_, labels)\n",
        "  epsilons.append(eps)\n",
        "  accuracy.append(acc2)\n",
        "  if acc2 == 0:\n",
        "      break\n",
        "for eps, advs_ in zip(np.linspace(0.0, 0.01, num=20), clippedad):\n",
        "  acc2 = foolbox.utils.accuracy(fmodelad, advs_, labels)\n",
        "  # acc2 = foolbox.utils.accuracy(fmodelad, advs_, labels)\n",
        "  epsilonsad.append(eps)\n",
        "  accuracyad.append(acc2)\n",
        "  if acc2 == 0:\n",
        "      break\n",
        "\n",
        "plt.figure(figsize=(10,6))\n",
        "plt.plot(epsilons,accuracy,label='cnn')\n",
        "plt.plot(epsilonsad,accuracyad,color='red',label='Adversarial CNN')\n",
        "\n",
        "plt.grid()\n",
        "plt.xlim(0,0.01)\n",
        "plt.ylim(0,1)\n",
        "plt.xlabel(\"<=Epsilon\")\n",
        "plt.ylabel(\"Accuracy\")\n",
        "plt.legend()\n",
        "plt.show()"
      ],
      "metadata": {
        "colab": {
          "base_uri": "https://localhost:8080/",
          "height": 392
        },
        "id": "AQhQzQ-rilKA",
        "outputId": "832699f0-4238-4c02-f89e-c2de1ce828fb"
      },
      "execution_count": 83,
      "outputs": [
        {
          "output_type": "display_data",
          "data": {
            "image/png": "[encoded data removed]",
            "text/plain": [
              "<Figure size 720x432 with 1 Axes>"
            ]
          },
          "metadata": {
            "needs_background": "light"
          }
        }
      ]
    },
    {
      "cell_type": "markdown",
      "source": [
        "# Iteratively Train\n",
        " \n",
        " Addressing the issue raised in the previous section, in this section we iteratively train a model on adversarial samples. Here the model being trained and the target model of the attack are the same. \n",
        "![img](https://929687.smushcdn.com/2633864/wp-content/uploads/2021/02/mixed_normal_adversary_step4.png?lossy=1&strip=1&webp=1)\n",
        "\n",
        "We sample a batch of images, and generate adversarial samples from this set using the model trained till this stage. The adverarial samples are mixed with the original images to obtain a mixed batch. The model is then trained using this batch. This process is performed iteratively"
      ],
      "metadata": {
        "id": "jEw7khO1NqJf"
      }
    },
    {
      "cell_type": "code",
      "source": [
        "def generateAdversarialBatches(all_files, model):\n",
        "  print(\"[INFO] Adversarial Batch Data Generator created\")\n",
        "  mapper = lambda x: 0 if x=='cats' else 1\n",
        "\n",
        "  while True:\n",
        "    for batch in all_files:\n",
        "      images = []\n",
        "      labels = []\n",
        "      for img in batch:\n",
        "        images.append(np.asarray(Image.open(img).resize((IMG_SIZE,IMG_SIZE)))/255)\n",
        "        labels.append(mapper(img.split(\"/\")[-2]))\n",
        "      images = tf.constant(np.stack(images,axis=0))\n",
        "      labels = tf.constant(np.stack(labels,axis=0))\n",
        "      \n",
        "      attack = foolbox.attacks.FGSM()\n",
        "      fmodel = TensorFlowModel(model, bounds=(0, 255))\n",
        "      epsilon = np.random.choice(np.linspace(0.0, 0.01, num=20),1)[0]\n",
        "      raw, clipped, is_adv = attack(fmodel , images, Misclassification(labels), epsilons=epsilon)\n",
        "    \n",
        "      images = np.vstack([images.numpy(),clipped.numpy()])\n",
        "      labels = np.concatenate([labels.numpy(),labels.numpy()])\n",
        "      yield images,labels"
      ],
      "metadata": {
        "id": "uvuFuRK6ORCM"
      },
      "execution_count": 57,
      "outputs": []
    },
    {
      "cell_type": "code",
      "source": [
        "from sklearn.model_selection import train_test_split\n",
        "def iterativeTrain(model, epochs=10, batch_size=8):\n",
        "  print(\"[INFO] Training with Dynamic Adversarial Image Generation\")\n",
        "  all_files = glob.glob(os.path.join(\"/content/cat-and-dog/training_set/training_set/\",\"*/*.jpg\"),recursive=True)\n",
        "  all_files_trn, all_files_val = train_test_split(all_files,test_size=0.1)\n",
        "  if len(all_files_trn)%batch_size!=0:\n",
        "    all_files_trn = all_files_trn[:len(all_files_trn)-(len(all_files_trn)%batch_size)]\n",
        "  if len(all_files_val)%batch_size!=0:\n",
        "    all_files_val = all_files_val[:len(all_files_val)-(len(all_files_val)%batch_size)]\n",
        "\n",
        "  all_files_trn = np.array(all_files_trn).reshape((-1,batch_size))\n",
        "  all_files_val = np.array(all_files_val).reshape((-1,batch_size))\n",
        "  \n",
        "  datagen = generateAdversarialBatches(all_files_trn,model)\n",
        "  val_datagen = generateAdversarialBatches(all_files_val,model)\n",
        "  ckpt = tf.keras.callbacks.ModelCheckpoint(\"advModel.hdf5\",monitor='val_loss',mode='min',save_best_only=True)\n",
        "  \n",
        "  model.fit(datagen,\n",
        "            epochs=epochs,\n",
        "            steps_per_epoch=all_files_trn.shape[0]//batch_size,\n",
        "            validation_data = val_datagen,\n",
        "            validation_steps = all_files_val.shape[0]//batch_size,\n",
        "            callbacks=[ckpt])\n",
        "  return model"
      ],
      "metadata": {
        "id": "apUdWG-hLY5Z"
      },
      "execution_count": 74,
      "outputs": []
    },
    {
      "cell_type": "code",
      "source": [
        "model = load_model(\"model.CNN.hdf5\")\n",
        "model.compile(loss='sparse_categorical_crossentropy',\n",
        "             optimizer=tf.keras.optimizers.Adam(learning_rate=1e-3),\n",
        "             metrics=['accuracy'])\n",
        "iterativeTrain(model)"
      ],
      "metadata": {
        "colab": {
          "base_uri": "https://localhost:8080/"
        },
        "id": "dBzcTSziOlAQ",
        "outputId": "9ecff800-aeb6-4dc5-bf71-0929743c22ae"
      },
      "execution_count": 75,
      "outputs": [
        {
          "output_type": "stream",
          "name": "stdout",
          "text": [
            "[INFO] Training with Dynamic Adversarial Image Generation\n",
            "[INFO] Adversarial Batch Data Generator created\n",
            "WARNING:tensorflow:sample_weight modes were coerced from\n",
            "  ...\n",
            "    to  \n",
            "  ['...']\n",
            "[INFO] Adversarial Batch Data Generator created\n",
            "WARNING:tensorflow:sample_weight modes were coerced from\n",
            "  ...\n",
            "    to  \n",
            "  ['...']\n",
            "Train for 112 steps, validate for 12 steps\n",
            "Epoch 1/10\n",
            "112/112 [==============================] - 16s 139ms/step - loss: 0.7747 - accuracy: 0.5045 - val_loss: 0.7015 - val_accuracy: 0.4896\n",
            "Epoch 2/10\n",
            "112/112 [==============================] - 15s 134ms/step - loss: 0.6820 - accuracy: 0.5698 - val_loss: 0.6730 - val_accuracy: 0.5521\n",
            "Epoch 3/10\n",
            "112/112 [==============================] - 15s 132ms/step - loss: 0.6803 - accuracy: 0.5614 - val_loss: 0.6783 - val_accuracy: 0.5938\n",
            "Epoch 4/10\n",
            "112/112 [==============================] - 15s 133ms/step - loss: 0.6537 - accuracy: 0.5977 - val_loss: 0.6745 - val_accuracy: 0.5260\n",
            "Epoch 5/10\n",
            "112/112 [==============================] - 15s 137ms/step - loss: 0.6387 - accuracy: 0.6362 - val_loss: 0.6412 - val_accuracy: 0.6458\n",
            "Epoch 6/10\n",
            "112/112 [==============================] - 15s 138ms/step - loss: 0.6475 - accuracy: 0.6311 - val_loss: 0.6490 - val_accuracy: 0.6406\n",
            "Epoch 7/10\n",
            "112/112 [==============================] - 15s 137ms/step - loss: 0.6415 - accuracy: 0.6172 - val_loss: 0.6272 - val_accuracy: 0.6510\n",
            "Epoch 8/10\n",
            "112/112 [==============================] - 15s 138ms/step - loss: 0.6394 - accuracy: 0.6071 - val_loss: 0.6318 - val_accuracy: 0.6146\n",
            "Epoch 9/10\n",
            "112/112 [==============================] - 15s 137ms/step - loss: 0.6454 - accuracy: 0.6228 - val_loss: 0.5923 - val_accuracy: 0.6875\n",
            "Epoch 10/10\n",
            "112/112 [==============================] - 15s 135ms/step - loss: 0.6259 - accuracy: 0.6579 - val_loss: 0.6104 - val_accuracy: 0.6875\n"
          ]
        },
        {
          "output_type": "execute_result",
          "data": {
            "text/plain": [
              "<tensorflow.python.keras.engine.sequential.Sequential at 0x7f407c608550>"
            ]
          },
          "metadata": {},
          "execution_count": 75
        }
      ]
    },
    {
      "cell_type": "markdown",
      "source": [
        "As before we generate at attack using the original model and test it using the adversarialy trained model. As expected it is impervious to attacks performed on the original model. But what happens when an attack is performed on itself."
      ],
      "metadata": {
        "id": "d3Agvy1g94hP"
      }
    },
    {
      "cell_type": "code",
      "source": [
        "fmodel = TensorFlowModel(load_model('model.CNN.hdf5'), bounds=(0, 255))\n",
        "attack = foolbox.attacks.FGSM()\n",
        "epsilon = np.linspace(0.0, 0.01, num=20)\n",
        "raw, clipped, is_adv = attack(fmodel , images, Misclassification(labels), epsilons=epsilon)"
      ],
      "metadata": {
        "id": "Z_q2sOAifSiC"
      },
      "execution_count": 76,
      "outputs": []
    },
    {
      "cell_type": "code",
      "source": [
        "epsilons, accuracy = [],[]\n",
        "epsilonsad, accuracyad = [],[]\n",
        "\n",
        "for eps, advs_ in zip(np.linspace(0.0, 0.01, num=20), clipped):\n",
        "  acc2 = foolbox.utils.accuracy(fmodel, advs_, labels)\n",
        "  epsilons.append(eps)\n",
        "  accuracy.append(acc2)\n",
        "  if acc2 == 0:\n",
        "      break\n",
        "for eps, advs_ in zip(np.linspace(0.0, 0.01, num=20), clipped):\n",
        "  acc2 = foolbox.utils.accuracy(fmodelad, advs_, labels)\n",
        "  # acc2 = foolbox.utils.accuracy(fmodelad, advs_, labels)\n",
        "  epsilonsad.append(eps)\n",
        "  accuracyad.append(acc2)\n",
        "  if acc2 == 0:\n",
        "      break\n",
        "\n",
        "plt.figure(figsize=(10,6))\n",
        "plt.plot(epsilons,accuracy,label='cnn')\n",
        "plt.plot(epsilonsad,accuracyad,color='red',label='Adversarial CNN')\n",
        "\n",
        "plt.grid()\n",
        "plt.xlim(0,0.01)\n",
        "plt.ylim(0,1)\n",
        "plt.xlabel(\"<=Epsilon\")\n",
        "plt.ylabel(\"Accuracy\")\n",
        "plt.legend()\n",
        "plt.show()"
      ],
      "metadata": {
        "colab": {
          "base_uri": "https://localhost:8080/",
          "height": 392
        },
        "outputId": "6f95644f-58ca-4933-c9e7-87b3dac2de4f",
        "id": "1C4ttQpnfSib"
      },
      "execution_count": 77,
      "outputs": [
        {
          "output_type": "display_data",
          "data": {
            "image/png": "[encoded data removed]",
            "text/plain": [
              "<Figure size 720x432 with 1 Axes>"
            ]
          },
          "metadata": {
            "needs_background": "light"
          }
        }
      ]
    },
    {
      "cell_type": "markdown",
      "source": [
        "Now we perform an attack targeting the adversarialy trained model. Now we see that the model is much more robust to FGSM attacks performed on itself."
      ],
      "metadata": {
        "id": "5RAONXww-Kmq"
      }
    },
    {
      "cell_type": "code",
      "source": [
        "attack = foolbox.attacks.FGSM()\n",
        "epsilon = np.linspace(0.0, 0.01, num=20)\n",
        "fmodelad = TensorFlowModel(model, bounds=(0, 255))\n",
        "rawad, clippedad, is_advad = attack(fmodelad , images, Misclassification(labels), epsilons=epsilon)"
      ],
      "metadata": {
        "id": "JxyP262p90dA"
      },
      "execution_count": null,
      "outputs": []
    },
    {
      "cell_type": "code",
      "source": [
        "epsilons, accuracy = [],[]\n",
        "epsilonsad, accuracyad = [],[]\n",
        "\n",
        "for eps, advs_ in zip(np.linspace(0.0, 0.01, num=20), clipped):\n",
        "  acc2 = foolbox.utils.accuracy(fmodel, advs_, labels)\n",
        "  epsilons.append(eps)\n",
        "  accuracy.append(acc2)\n",
        "  if acc2 == 0:\n",
        "      break\n",
        "for eps, advs_ in zip(np.linspace(0.0, 0.01, num=20), clippedad):\n",
        "  acc2 = foolbox.utils.accuracy(fmodelad, advs_, labels)\n",
        "  # acc2 = foolbox.utils.accuracy(fmodelad, advs_, labels)\n",
        "  epsilonsad.append(eps)\n",
        "  accuracyad.append(acc2)\n",
        "  if acc2 == 0:\n",
        "      break\n",
        "\n",
        "plt.figure(figsize=(10,6))\n",
        "plt.plot(epsilons,accuracy,label='cnn')\n",
        "plt.plot(epsilonsad,accuracyad,color='red',label='Adversarial CNN')\n",
        "\n",
        "plt.grid()\n",
        "plt.xlim(0,0.01)\n",
        "plt.ylim(0,1)\n",
        "plt.xlabel(\"<=Epsilon\")\n",
        "plt.ylabel(\"Accuracy\")\n",
        "plt.legend()\n",
        "plt.show()"
      ],
      "metadata": {
        "colab": {
          "base_uri": "https://localhost:8080/",
          "height": 392
        },
        "id": "yWkyqfWkU6A3",
        "outputId": "77d95b7a-9922-4cea-e97f-10f69da13d77"
      },
      "execution_count": 78,
      "outputs": [
        {
          "output_type": "display_data",
          "data": {
            "image/png": "[encoded data removed]",
            "text/plain": [
              "<Figure size 720x432 with 1 Axes>"
            ]
          },
          "metadata": {
            "needs_background": "light"
          }
        }
      ]
    },
    {
      "cell_type": "code",
      "source": [
        "!cp \"advModel.hdf5\" \"/content/gdrive/MyDrive/func_files/\"\n",
        "!cp \"model.adCNN.hdf5\" \"/content/gdrive/MyDrive/func_files/\"\n",
        "\n",
        "drive.flush_and_unmount()"
      ],
      "metadata": {
        "id": "FyhMyCbhiUGL"
      },
      "execution_count": 84,
      "outputs": []
    },
    {
      "cell_type": "code",
      "source": [
        ""
      ],
      "metadata": {
        "id": "rh_dvHVQjAjr"
      },
      "execution_count": null,
      "outputs": []
    }
  ]
}